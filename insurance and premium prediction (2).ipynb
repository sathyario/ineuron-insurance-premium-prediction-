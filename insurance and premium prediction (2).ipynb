{
 "cells": [
  {
   "cell_type": "markdown",
   "id": "b91ebc6e",
   "metadata": {},
   "source": [
    "# PROJECT TITTLE :INSURANCE  PREMIUN PREDICTION"
   ]
  },
  {
   "cell_type": "markdown",
   "id": "00bde87a",
   "metadata": {},
   "source": [
    "# Problem Statement:\n",
    "\n",
    "   The goal of this project is to give people an estimate of how much they need based on\n",
    "their individual health situation. After that, customers can work with any health\n",
    "insurance carrier and its plans and perks while keeping the projected cost from our\n",
    "study in mind. This can assist a person in concentrating on the health side of an\n",
    "insurance policy rather han the ineffective part."
   ]
  },
  {
   "cell_type": "markdown",
   "id": "fe2ff11d",
   "metadata": {},
   "source": [
    "# Approach: \n",
    "\n",
    "   The classical machine learning tasks like Data Exploration, Data Cleaning,\n",
    "Feature Engineering, Model Building and Model Testing. Try out different machine\n",
    "learning algorithms that’s best fit for the above case.\n",
    "Some Famous Algorithms: - Multiple Linear Regression, Decision tree Regression and\n",
    "Gradient Boosting, Decision tree, Regression"
   ]
  },
  {
   "cell_type": "markdown",
   "id": "26823c67",
   "metadata": {},
   "source": [
    "# Results:\n",
    "\n",
    "   You have to build a solution that should able to predict the premium of the personal for health insurance"
   ]
  },
  {
   "cell_type": "markdown",
   "id": "6a6527b5",
   "metadata": {},
   "source": [
    "# import standard library"
   ]
  },
  {
   "cell_type": "code",
   "execution_count": 1,
   "id": "59c696f5",
   "metadata": {},
   "outputs": [],
   "source": [
    "import pandas as pd\n",
    "import numpy as np\n",
    "import matplotlib.pyplot as plt\n",
    "import seaborn as sns"
   ]
  },
  {
   "cell_type": "code",
   "execution_count": 2,
   "id": "862e6518",
   "metadata": {},
   "outputs": [],
   "source": [
    "df = pd.read_csv(\"C:\\\\Users\\\\SATHYANARAYANA M\\\\Downloads\\\\Insurance Premium Prediction\\\\insurance.csv\")"
   ]
  },
  {
   "cell_type": "code",
   "execution_count": 3,
   "id": "8adacfb0",
   "metadata": {},
   "outputs": [
    {
     "data": {
      "text/html": [
       "<div>\n",
       "<style scoped>\n",
       "    .dataframe tbody tr th:only-of-type {\n",
       "        vertical-align: middle;\n",
       "    }\n",
       "\n",
       "    .dataframe tbody tr th {\n",
       "        vertical-align: top;\n",
       "    }\n",
       "\n",
       "    .dataframe thead th {\n",
       "        text-align: right;\n",
       "    }\n",
       "</style>\n",
       "<table border=\"1\" class=\"dataframe\">\n",
       "  <thead>\n",
       "    <tr style=\"text-align: right;\">\n",
       "      <th></th>\n",
       "      <th>age</th>\n",
       "      <th>sex</th>\n",
       "      <th>bmi</th>\n",
       "      <th>children</th>\n",
       "      <th>smoker</th>\n",
       "      <th>region</th>\n",
       "      <th>expenses</th>\n",
       "    </tr>\n",
       "  </thead>\n",
       "  <tbody>\n",
       "    <tr>\n",
       "      <th>0</th>\n",
       "      <td>19</td>\n",
       "      <td>female</td>\n",
       "      <td>27.9</td>\n",
       "      <td>0</td>\n",
       "      <td>yes</td>\n",
       "      <td>southwest</td>\n",
       "      <td>16884.92</td>\n",
       "    </tr>\n",
       "    <tr>\n",
       "      <th>1</th>\n",
       "      <td>18</td>\n",
       "      <td>male</td>\n",
       "      <td>33.8</td>\n",
       "      <td>1</td>\n",
       "      <td>no</td>\n",
       "      <td>southeast</td>\n",
       "      <td>1725.55</td>\n",
       "    </tr>\n",
       "    <tr>\n",
       "      <th>2</th>\n",
       "      <td>28</td>\n",
       "      <td>male</td>\n",
       "      <td>33.0</td>\n",
       "      <td>3</td>\n",
       "      <td>no</td>\n",
       "      <td>southeast</td>\n",
       "      <td>4449.46</td>\n",
       "    </tr>\n",
       "    <tr>\n",
       "      <th>3</th>\n",
       "      <td>33</td>\n",
       "      <td>male</td>\n",
       "      <td>22.7</td>\n",
       "      <td>0</td>\n",
       "      <td>no</td>\n",
       "      <td>northwest</td>\n",
       "      <td>21984.47</td>\n",
       "    </tr>\n",
       "    <tr>\n",
       "      <th>4</th>\n",
       "      <td>32</td>\n",
       "      <td>male</td>\n",
       "      <td>28.9</td>\n",
       "      <td>0</td>\n",
       "      <td>no</td>\n",
       "      <td>northwest</td>\n",
       "      <td>3866.86</td>\n",
       "    </tr>\n",
       "    <tr>\n",
       "      <th>...</th>\n",
       "      <td>...</td>\n",
       "      <td>...</td>\n",
       "      <td>...</td>\n",
       "      <td>...</td>\n",
       "      <td>...</td>\n",
       "      <td>...</td>\n",
       "      <td>...</td>\n",
       "    </tr>\n",
       "    <tr>\n",
       "      <th>1333</th>\n",
       "      <td>50</td>\n",
       "      <td>male</td>\n",
       "      <td>31.0</td>\n",
       "      <td>3</td>\n",
       "      <td>no</td>\n",
       "      <td>northwest</td>\n",
       "      <td>10600.55</td>\n",
       "    </tr>\n",
       "    <tr>\n",
       "      <th>1334</th>\n",
       "      <td>18</td>\n",
       "      <td>female</td>\n",
       "      <td>31.9</td>\n",
       "      <td>0</td>\n",
       "      <td>no</td>\n",
       "      <td>northeast</td>\n",
       "      <td>2205.98</td>\n",
       "    </tr>\n",
       "    <tr>\n",
       "      <th>1335</th>\n",
       "      <td>18</td>\n",
       "      <td>female</td>\n",
       "      <td>36.9</td>\n",
       "      <td>0</td>\n",
       "      <td>no</td>\n",
       "      <td>southeast</td>\n",
       "      <td>1629.83</td>\n",
       "    </tr>\n",
       "    <tr>\n",
       "      <th>1336</th>\n",
       "      <td>21</td>\n",
       "      <td>female</td>\n",
       "      <td>25.8</td>\n",
       "      <td>0</td>\n",
       "      <td>no</td>\n",
       "      <td>southwest</td>\n",
       "      <td>2007.95</td>\n",
       "    </tr>\n",
       "    <tr>\n",
       "      <th>1337</th>\n",
       "      <td>61</td>\n",
       "      <td>female</td>\n",
       "      <td>29.1</td>\n",
       "      <td>0</td>\n",
       "      <td>yes</td>\n",
       "      <td>northwest</td>\n",
       "      <td>29141.36</td>\n",
       "    </tr>\n",
       "  </tbody>\n",
       "</table>\n",
       "<p>1338 rows × 7 columns</p>\n",
       "</div>"
      ],
      "text/plain": [
       "      age     sex   bmi  children smoker     region  expenses\n",
       "0      19  female  27.9         0    yes  southwest  16884.92\n",
       "1      18    male  33.8         1     no  southeast   1725.55\n",
       "2      28    male  33.0         3     no  southeast   4449.46\n",
       "3      33    male  22.7         0     no  northwest  21984.47\n",
       "4      32    male  28.9         0     no  northwest   3866.86\n",
       "...   ...     ...   ...       ...    ...        ...       ...\n",
       "1333   50    male  31.0         3     no  northwest  10600.55\n",
       "1334   18  female  31.9         0     no  northeast   2205.98\n",
       "1335   18  female  36.9         0     no  southeast   1629.83\n",
       "1336   21  female  25.8         0     no  southwest   2007.95\n",
       "1337   61  female  29.1         0    yes  northwest  29141.36\n",
       "\n",
       "[1338 rows x 7 columns]"
      ]
     },
     "execution_count": 3,
     "metadata": {},
     "output_type": "execute_result"
    }
   ],
   "source": [
    "df"
   ]
  },
  {
   "cell_type": "markdown",
   "id": "a2b80a43",
   "metadata": {},
   "source": [
    "# shape of data"
   ]
  },
  {
   "cell_type": "code",
   "execution_count": 4,
   "id": "f1bd192d",
   "metadata": {
    "scrolled": true
   },
   "outputs": [
    {
     "name": "stdout",
     "output_type": "stream",
     "text": [
      "Rows:1338 , columns: 7\n"
     ]
    }
   ],
   "source": [
    "print(f\"Rows:{df.shape[0]} , columns: {df.shape[1]}\")\n",
    "## The \"f\" at the beginning of the string denotes that this is an f-string, \n",
    "## and the expressions inside curly braces are \n",
    "## evaluated and replaced with their values at runtime."
   ]
  },
  {
   "cell_type": "markdown",
   "id": "01efb4c9",
   "metadata": {},
   "source": [
    "# About data"
   ]
  },
  {
   "cell_type": "code",
   "execution_count": 5,
   "id": "805a18b9",
   "metadata": {},
   "outputs": [
    {
     "name": "stdout",
     "output_type": "stream",
     "text": [
      "<class 'pandas.core.frame.DataFrame'>\n",
      "RangeIndex: 1338 entries, 0 to 1337\n",
      "Data columns (total 7 columns):\n",
      " #   Column    Non-Null Count  Dtype  \n",
      "---  ------    --------------  -----  \n",
      " 0   age       1338 non-null   int64  \n",
      " 1   sex       1338 non-null   object \n",
      " 2   bmi       1338 non-null   float64\n",
      " 3   children  1338 non-null   int64  \n",
      " 4   smoker    1338 non-null   object \n",
      " 5   region    1338 non-null   object \n",
      " 6   expenses  1338 non-null   float64\n",
      "dtypes: float64(2), int64(2), object(3)\n",
      "memory usage: 73.3+ KB\n",
      "None\n"
     ]
    }
   ],
   "source": [
    "print(df.info())"
   ]
  },
  {
   "cell_type": "markdown",
   "id": "2dee172a",
   "metadata": {},
   "source": [
    "# checking null values"
   ]
  },
  {
   "cell_type": "code",
   "execution_count": 6,
   "id": "8ec1da48",
   "metadata": {
    "scrolled": false
   },
   "outputs": [
    {
     "data": {
      "text/plain": [
       "age         0.0\n",
       "sex         0.0\n",
       "bmi         0.0\n",
       "children    0.0\n",
       "smoker      0.0\n",
       "region      0.0\n",
       "expenses    0.0\n",
       "dtype: float64"
      ]
     },
     "execution_count": 6,
     "metadata": {},
     "output_type": "execute_result"
    }
   ],
   "source": [
    "df.isnull().sum()/df.shape[0]*100"
   ]
  },
  {
   "cell_type": "markdown",
   "id": "3a17ab5f",
   "metadata": {},
   "source": [
    "#### no null values"
   ]
  },
  {
   "cell_type": "code",
   "execution_count": 7,
   "id": "e67430f9",
   "metadata": {
    "scrolled": true
   },
   "outputs": [
    {
     "data": {
      "text/html": [
       "<div>\n",
       "<style scoped>\n",
       "    .dataframe tbody tr th:only-of-type {\n",
       "        vertical-align: middle;\n",
       "    }\n",
       "\n",
       "    .dataframe tbody tr th {\n",
       "        vertical-align: top;\n",
       "    }\n",
       "\n",
       "    .dataframe thead th {\n",
       "        text-align: right;\n",
       "    }\n",
       "</style>\n",
       "<table border=\"1\" class=\"dataframe\">\n",
       "  <thead>\n",
       "    <tr style=\"text-align: right;\">\n",
       "      <th></th>\n",
       "      <th>count</th>\n",
       "      <th>mean</th>\n",
       "      <th>std</th>\n",
       "      <th>min</th>\n",
       "      <th>25%</th>\n",
       "      <th>50%</th>\n",
       "      <th>75%</th>\n",
       "      <th>max</th>\n",
       "    </tr>\n",
       "  </thead>\n",
       "  <tbody>\n",
       "    <tr>\n",
       "      <th>age</th>\n",
       "      <td>1338.0</td>\n",
       "      <td>39.207025</td>\n",
       "      <td>14.049960</td>\n",
       "      <td>18.00</td>\n",
       "      <td>27.0000</td>\n",
       "      <td>39.00</td>\n",
       "      <td>51.000</td>\n",
       "      <td>64.00</td>\n",
       "    </tr>\n",
       "    <tr>\n",
       "      <th>bmi</th>\n",
       "      <td>1338.0</td>\n",
       "      <td>30.665471</td>\n",
       "      <td>6.098382</td>\n",
       "      <td>16.00</td>\n",
       "      <td>26.3000</td>\n",
       "      <td>30.40</td>\n",
       "      <td>34.700</td>\n",
       "      <td>53.10</td>\n",
       "    </tr>\n",
       "    <tr>\n",
       "      <th>children</th>\n",
       "      <td>1338.0</td>\n",
       "      <td>1.094918</td>\n",
       "      <td>1.205493</td>\n",
       "      <td>0.00</td>\n",
       "      <td>0.0000</td>\n",
       "      <td>1.00</td>\n",
       "      <td>2.000</td>\n",
       "      <td>5.00</td>\n",
       "    </tr>\n",
       "    <tr>\n",
       "      <th>expenses</th>\n",
       "      <td>1338.0</td>\n",
       "      <td>13270.422414</td>\n",
       "      <td>12110.011240</td>\n",
       "      <td>1121.87</td>\n",
       "      <td>4740.2875</td>\n",
       "      <td>9382.03</td>\n",
       "      <td>16639.915</td>\n",
       "      <td>63770.43</td>\n",
       "    </tr>\n",
       "  </tbody>\n",
       "</table>\n",
       "</div>"
      ],
      "text/plain": [
       "           count          mean           std      min        25%      50%  \\\n",
       "age       1338.0     39.207025     14.049960    18.00    27.0000    39.00   \n",
       "bmi       1338.0     30.665471      6.098382    16.00    26.3000    30.40   \n",
       "children  1338.0      1.094918      1.205493     0.00     0.0000     1.00   \n",
       "expenses  1338.0  13270.422414  12110.011240  1121.87  4740.2875  9382.03   \n",
       "\n",
       "                75%       max  \n",
       "age          51.000     64.00  \n",
       "bmi          34.700     53.10  \n",
       "children      2.000      5.00  \n",
       "expenses  16639.915  63770.43  "
      ]
     },
     "execution_count": 7,
     "metadata": {},
     "output_type": "execute_result"
    }
   ],
   "source": [
    "df.describe().T ## T- transposes"
   ]
  },
  {
   "cell_type": "code",
   "execution_count": 8,
   "id": "e9f92d21",
   "metadata": {},
   "outputs": [
    {
     "name": "stderr",
     "output_type": "stream",
     "text": [
      "C:\\Users\\SATHYANARAYANA M\\AppData\\Local\\Temp\\ipykernel_19572\\4158672075.py:1: FutureWarning: The default value of numeric_only in DataFrame.mean is deprecated. In a future version, it will default to False. In addition, specifying 'numeric_only=None' is deprecated. Select only valid columns or specify the value of numeric_only to silence this warning.\n",
      "  df.mean() #### mean of numerical data\n"
     ]
    },
    {
     "data": {
      "text/plain": [
       "age            39.207025\n",
       "bmi            30.665471\n",
       "children        1.094918\n",
       "expenses    13270.422414\n",
       "dtype: float64"
      ]
     },
     "execution_count": 8,
     "metadata": {},
     "output_type": "execute_result"
    }
   ],
   "source": [
    "df.mean() #### mean of numerical data"
   ]
  },
  {
   "cell_type": "code",
   "execution_count": 9,
   "id": "25bade63",
   "metadata": {},
   "outputs": [
    {
     "data": {
      "text/plain": [
       "Index(['age', 'sex', 'bmi', 'children', 'smoker', 'region', 'expenses'], dtype='object')"
      ]
     },
     "execution_count": 9,
     "metadata": {},
     "output_type": "execute_result"
    }
   ],
   "source": [
    "df.columns"
   ]
  },
  {
   "cell_type": "markdown",
   "id": "8ca5a243",
   "metadata": {},
   "source": [
    "# Doing combination"
   ]
  },
  {
   "cell_type": "code",
   "execution_count": 10,
   "id": "7f6ceb73",
   "metadata": {},
   "outputs": [],
   "source": [
    "from itertools import combinations ### doing of combination its easy to all columns and analysis easly"
   ]
  },
  {
   "cell_type": "code",
   "execution_count": 11,
   "id": "2fb26718",
   "metadata": {},
   "outputs": [
    {
     "data": {
      "text/plain": [
       "[('age', 'bmi'),\n",
       " ('age', 'children'),\n",
       " ('age', 'expenses'),\n",
       " ('bmi', 'children'),\n",
       " ('bmi', 'expenses'),\n",
       " ('children', 'expenses')]"
      ]
     },
     "execution_count": 11,
     "metadata": {},
     "output_type": "execute_result"
    }
   ],
   "source": [
    "list(combinations(df.select_dtypes(exclude=object).columns,2))"
   ]
  },
  {
   "cell_type": "markdown",
   "id": "e9f5a104",
   "metadata": {},
   "source": [
    "# checking pearsonr correlation"
   ]
  },
  {
   "cell_type": "markdown",
   "id": "e9bf537d",
   "metadata": {},
   "source": [
    "# checking relationship between numeric columns"
   ]
  },
  {
   "cell_type": "code",
   "execution_count": 12,
   "id": "c3fb9bac",
   "metadata": {},
   "outputs": [],
   "source": [
    "from scipy.stats import pearsonr"
   ]
  },
  {
   "cell_type": "code",
   "execution_count": 13,
   "id": "881d6142",
   "metadata": {},
   "outputs": [
    {
     "data": {
      "text/plain": [
       "PearsonRResult(statistic=0.10934101460268024, pvalue=6.12782198063157e-05)"
      ]
     },
     "execution_count": 13,
     "metadata": {},
     "output_type": "execute_result"
    }
   ],
   "source": [
    "pearsonr(df['age'],df['bmi']) #### checking for just tow column"
   ]
  },
  {
   "cell_type": "code",
   "execution_count": 14,
   "id": "4534bc9e",
   "metadata": {},
   "outputs": [
    {
     "data": {
      "text/html": [
       "<div>\n",
       "<style scoped>\n",
       "    .dataframe tbody tr th:only-of-type {\n",
       "        vertical-align: middle;\n",
       "    }\n",
       "\n",
       "    .dataframe tbody tr th {\n",
       "        vertical-align: top;\n",
       "    }\n",
       "\n",
       "    .dataframe thead th {\n",
       "        text-align: right;\n",
       "    }\n",
       "</style>\n",
       "<table border=\"1\" class=\"dataframe\">\n",
       "  <thead>\n",
       "    <tr style=\"text-align: right;\">\n",
       "      <th></th>\n",
       "      <th>variable_1</th>\n",
       "      <th>variable_2</th>\n",
       "      <th>correlation</th>\n",
       "      <th>p-value</th>\n",
       "      <th>conclusion</th>\n",
       "    </tr>\n",
       "  </thead>\n",
       "  <tbody>\n",
       "    <tr>\n",
       "      <th>0</th>\n",
       "      <td>age</td>\n",
       "      <td>bmi</td>\n",
       "      <td>0.109341</td>\n",
       "      <td>6.127822e-05</td>\n",
       "      <td>significante</td>\n",
       "    </tr>\n",
       "    <tr>\n",
       "      <th>1</th>\n",
       "      <td>age</td>\n",
       "      <td>children</td>\n",
       "      <td>0.042469</td>\n",
       "      <td>1.204928e-01</td>\n",
       "      <td>not significante</td>\n",
       "    </tr>\n",
       "    <tr>\n",
       "      <th>2</th>\n",
       "      <td>age</td>\n",
       "      <td>expenses</td>\n",
       "      <td>0.299008</td>\n",
       "      <td>4.886696e-29</td>\n",
       "      <td>significante</td>\n",
       "    </tr>\n",
       "    <tr>\n",
       "      <th>3</th>\n",
       "      <td>bmi</td>\n",
       "      <td>children</td>\n",
       "      <td>0.012645</td>\n",
       "      <td>6.440004e-01</td>\n",
       "      <td>not significante</td>\n",
       "    </tr>\n",
       "    <tr>\n",
       "      <th>4</th>\n",
       "      <td>bmi</td>\n",
       "      <td>expenses</td>\n",
       "      <td>0.198576</td>\n",
       "      <td>2.301828e-13</td>\n",
       "      <td>significante</td>\n",
       "    </tr>\n",
       "    <tr>\n",
       "      <th>5</th>\n",
       "      <td>children</td>\n",
       "      <td>expenses</td>\n",
       "      <td>0.067998</td>\n",
       "      <td>1.285212e-02</td>\n",
       "      <td>significante</td>\n",
       "    </tr>\n",
       "  </tbody>\n",
       "</table>\n",
       "</div>"
      ],
      "text/plain": [
       "  variable_1 variable_2  correlation       p-value        conclusion\n",
       "0        age        bmi     0.109341  6.127822e-05      significante\n",
       "1        age   children     0.042469  1.204928e-01  not significante\n",
       "2        age   expenses     0.299008  4.886696e-29      significante\n",
       "3        bmi   children     0.012645  6.440004e-01  not significante\n",
       "4        bmi   expenses     0.198576  2.301828e-13      significante\n",
       "5   children   expenses     0.067998  1.285212e-02      significante"
      ]
     },
     "execution_count": 14,
     "metadata": {},
     "output_type": "execute_result"
    }
   ],
   "source": [
    "result = pd.DataFrame()\n",
    "var1 = []\n",
    "var2 = []\n",
    "corr = []\n",
    "prob = []\n",
    "conclusion = []\n",
    "for i,j in list(combinations(df.select_dtypes(exclude=object).columns,2)):\n",
    "    correlation = pearsonr(df[i],df[j])\n",
    "    corr.append(correlation[0])\n",
    "    prob.append(correlation[1])\n",
    "    var1.append(i)\n",
    "    var2.append(j)\n",
    "    if correlation[1]<0.05:\n",
    "        conclusion.append('significante')\n",
    "    else:\n",
    "        conclusion.append('not significante')\n",
    "result['variable_1'] = var1\n",
    "result['variable_2'] = var2\n",
    "result['correlation'] = corr\n",
    "result['p-value'] = prob\n",
    "result['conclusion'] = conclusion\n",
    "result"
   ]
  },
  {
   "cell_type": "markdown",
   "id": "a6f65bb4",
   "metadata": {},
   "source": [
    "there is no relationship betweeen age and children ,bmi and children \n",
    "so there is no need the importance of analysis of this columns"
   ]
  },
  {
   "cell_type": "markdown",
   "id": "7534a36b",
   "metadata": {},
   "source": [
    "# Chi Square Test"
   ]
  },
  {
   "cell_type": "markdown",
   "id": "2380e417",
   "metadata": {},
   "source": [
    "# checking relationship between categorical variable"
   ]
  },
  {
   "cell_type": "code",
   "execution_count": 15,
   "id": "1f0c51b8",
   "metadata": {},
   "outputs": [],
   "source": [
    "from scipy.stats import chi2_contingency"
   ]
  },
  {
   "cell_type": "code",
   "execution_count": 16,
   "id": "4b289feb",
   "metadata": {},
   "outputs": [
    {
     "data": {
      "text/plain": [
       "Index(['age', 'sex', 'bmi', 'children', 'smoker', 'region', 'expenses'], dtype='object')"
      ]
     },
     "execution_count": 16,
     "metadata": {},
     "output_type": "execute_result"
    }
   ],
   "source": [
    "df.columns"
   ]
  },
  {
   "cell_type": "markdown",
   "id": "bd246cc0",
   "metadata": {},
   "source": [
    "# Sex and Somker"
   ]
  },
  {
   "cell_type": "code",
   "execution_count": 18,
   "id": "c5d495a8",
   "metadata": {},
   "outputs": [],
   "source": [
    "chi = pd.crosstab(df['sex'],df['smoker'])"
   ]
  },
  {
   "cell_type": "code",
   "execution_count": 19,
   "id": "a608df2d",
   "metadata": {},
   "outputs": [
    {
     "data": {
      "text/html": [
       "<div>\n",
       "<style scoped>\n",
       "    .dataframe tbody tr th:only-of-type {\n",
       "        vertical-align: middle;\n",
       "    }\n",
       "\n",
       "    .dataframe tbody tr th {\n",
       "        vertical-align: top;\n",
       "    }\n",
       "\n",
       "    .dataframe thead th {\n",
       "        text-align: right;\n",
       "    }\n",
       "</style>\n",
       "<table border=\"1\" class=\"dataframe\">\n",
       "  <thead>\n",
       "    <tr style=\"text-align: right;\">\n",
       "      <th>smoker</th>\n",
       "      <th>no</th>\n",
       "      <th>yes</th>\n",
       "    </tr>\n",
       "    <tr>\n",
       "      <th>sex</th>\n",
       "      <th></th>\n",
       "      <th></th>\n",
       "    </tr>\n",
       "  </thead>\n",
       "  <tbody>\n",
       "    <tr>\n",
       "      <th>female</th>\n",
       "      <td>547</td>\n",
       "      <td>115</td>\n",
       "    </tr>\n",
       "    <tr>\n",
       "      <th>male</th>\n",
       "      <td>517</td>\n",
       "      <td>159</td>\n",
       "    </tr>\n",
       "  </tbody>\n",
       "</table>\n",
       "</div>"
      ],
      "text/plain": [
       "smoker   no  yes\n",
       "sex             \n",
       "female  547  115\n",
       "male    517  159"
      ]
     },
     "execution_count": 19,
     "metadata": {},
     "output_type": "execute_result"
    }
   ],
   "source": [
    "chi"
   ]
  },
  {
   "cell_type": "code",
   "execution_count": 20,
   "id": "67ab76c9",
   "metadata": {},
   "outputs": [
    {
     "name": "stdout",
     "output_type": "stream",
     "text": [
      "p value is 0.006548143503580696\n",
      "Dependent (reject H0)\n"
     ]
    }
   ],
   "source": [
    "stat ,p ,dof ,exp = chi2_contingency(chi)\n",
    "# interpret p-value\n",
    "alpha = 0.05\n",
    "print(\"p value is \" + str(p))\n",
    "if p <= alpha:\n",
    "    print('Dependent (reject H0)')\n",
    "else:\n",
    "    print('Independent (H0 holds true)')\n"
   ]
  },
  {
   "cell_type": "code",
   "execution_count": 21,
   "id": "678be38a",
   "metadata": {
    "scrolled": true
   },
   "outputs": [
    {
     "name": "stdout",
     "output_type": "stream",
     "text": [
      "7.39291081459996\n",
      "0.006548143503580696\n",
      "1\n",
      "[[526.43348281 135.56651719]\n",
      " [537.56651719 138.43348281]]\n"
     ]
    }
   ],
   "source": [
    "print(stat)\n",
    "print(p)\n",
    "print(dof)\n",
    "print(exp)"
   ]
  },
  {
   "cell_type": "markdown",
   "id": "841673c7",
   "metadata": {},
   "source": [
    "so sex and somker dependent each other "
   ]
  },
  {
   "cell_type": "markdown",
   "id": "406cfca1",
   "metadata": {},
   "source": [
    "# Sex and Region"
   ]
  },
  {
   "cell_type": "code",
   "execution_count": 22,
   "id": "9c4ca709",
   "metadata": {},
   "outputs": [
    {
     "name": "stdout",
     "output_type": "stream",
     "text": [
      "p value is 0.9328921288772233\n",
      "Independent (H0 holds true)\n"
     ]
    }
   ],
   "source": [
    "chi = pd.crosstab(df['sex'],df['region'])\n",
    "\n",
    "stat ,p ,dof ,exp = chi2_contingency(chi)\n",
    "# interpret p-value\n",
    "alpha = 0.05\n",
    "print(\"p value is \" + str(p))\n",
    "if p <= alpha:\n",
    "    print('Dependent (reject H0)')\n",
    "else:\n",
    "    print('Independent (H0 holds true)')"
   ]
  },
  {
   "cell_type": "markdown",
   "id": "b6587d1c",
   "metadata": {},
   "source": [
    "## sex and Region are Independent each other "
   ]
  },
  {
   "cell_type": "code",
   "execution_count": 23,
   "id": "30f2f48c",
   "metadata": {},
   "outputs": [
    {
     "name": "stdout",
     "output_type": "stream",
     "text": [
      "p value is 0.06171954839170541\n",
      "Independent (H0 holds true)\n"
     ]
    }
   ],
   "source": [
    "chi = pd.crosstab(df['region'],df['smoker'])\n",
    "\n",
    "stat ,p ,dof ,exp = chi2_contingency(chi)\n",
    "# interpret p-value\n",
    "alpha = 0.05\n",
    "print(\"p value is \" + str(p))\n",
    "if p <= alpha:\n",
    "    print('Dependent (reject H0)')\n",
    "else:\n",
    "    print('Independent (H0 holds true)')"
   ]
  },
  {
   "cell_type": "markdown",
   "id": "60dfe4e6",
   "metadata": {},
   "source": [
    "Independent each other"
   ]
  },
  {
   "cell_type": "markdown",
   "id": "c3157087",
   "metadata": {},
   "source": [
    "# spliting categorical and numerical"
   ]
  },
  {
   "cell_type": "code",
   "execution_count": 24,
   "id": "17b8aa32",
   "metadata": {},
   "outputs": [],
   "source": [
    "## spliting cat and num to do EDA process easyly"
   ]
  },
  {
   "cell_type": "markdown",
   "id": "4b00c19c",
   "metadata": {},
   "source": [
    "## Numerical"
   ]
  },
  {
   "cell_type": "code",
   "execution_count": 25,
   "id": "186cbf14",
   "metadata": {
    "scrolled": false
   },
   "outputs": [],
   "source": [
    "num = df.select_dtypes(exclude='O')"
   ]
  },
  {
   "cell_type": "code",
   "execution_count": 26,
   "id": "6b696a50",
   "metadata": {},
   "outputs": [
    {
     "data": {
      "text/html": [
       "<div>\n",
       "<style scoped>\n",
       "    .dataframe tbody tr th:only-of-type {\n",
       "        vertical-align: middle;\n",
       "    }\n",
       "\n",
       "    .dataframe tbody tr th {\n",
       "        vertical-align: top;\n",
       "    }\n",
       "\n",
       "    .dataframe thead th {\n",
       "        text-align: right;\n",
       "    }\n",
       "</style>\n",
       "<table border=\"1\" class=\"dataframe\">\n",
       "  <thead>\n",
       "    <tr style=\"text-align: right;\">\n",
       "      <th></th>\n",
       "      <th>age</th>\n",
       "      <th>bmi</th>\n",
       "      <th>children</th>\n",
       "      <th>expenses</th>\n",
       "    </tr>\n",
       "  </thead>\n",
       "  <tbody>\n",
       "    <tr>\n",
       "      <th>0</th>\n",
       "      <td>19</td>\n",
       "      <td>27.9</td>\n",
       "      <td>0</td>\n",
       "      <td>16884.92</td>\n",
       "    </tr>\n",
       "    <tr>\n",
       "      <th>1</th>\n",
       "      <td>18</td>\n",
       "      <td>33.8</td>\n",
       "      <td>1</td>\n",
       "      <td>1725.55</td>\n",
       "    </tr>\n",
       "    <tr>\n",
       "      <th>2</th>\n",
       "      <td>28</td>\n",
       "      <td>33.0</td>\n",
       "      <td>3</td>\n",
       "      <td>4449.46</td>\n",
       "    </tr>\n",
       "    <tr>\n",
       "      <th>3</th>\n",
       "      <td>33</td>\n",
       "      <td>22.7</td>\n",
       "      <td>0</td>\n",
       "      <td>21984.47</td>\n",
       "    </tr>\n",
       "    <tr>\n",
       "      <th>4</th>\n",
       "      <td>32</td>\n",
       "      <td>28.9</td>\n",
       "      <td>0</td>\n",
       "      <td>3866.86</td>\n",
       "    </tr>\n",
       "    <tr>\n",
       "      <th>...</th>\n",
       "      <td>...</td>\n",
       "      <td>...</td>\n",
       "      <td>...</td>\n",
       "      <td>...</td>\n",
       "    </tr>\n",
       "    <tr>\n",
       "      <th>1333</th>\n",
       "      <td>50</td>\n",
       "      <td>31.0</td>\n",
       "      <td>3</td>\n",
       "      <td>10600.55</td>\n",
       "    </tr>\n",
       "    <tr>\n",
       "      <th>1334</th>\n",
       "      <td>18</td>\n",
       "      <td>31.9</td>\n",
       "      <td>0</td>\n",
       "      <td>2205.98</td>\n",
       "    </tr>\n",
       "    <tr>\n",
       "      <th>1335</th>\n",
       "      <td>18</td>\n",
       "      <td>36.9</td>\n",
       "      <td>0</td>\n",
       "      <td>1629.83</td>\n",
       "    </tr>\n",
       "    <tr>\n",
       "      <th>1336</th>\n",
       "      <td>21</td>\n",
       "      <td>25.8</td>\n",
       "      <td>0</td>\n",
       "      <td>2007.95</td>\n",
       "    </tr>\n",
       "    <tr>\n",
       "      <th>1337</th>\n",
       "      <td>61</td>\n",
       "      <td>29.1</td>\n",
       "      <td>0</td>\n",
       "      <td>29141.36</td>\n",
       "    </tr>\n",
       "  </tbody>\n",
       "</table>\n",
       "<p>1338 rows × 4 columns</p>\n",
       "</div>"
      ],
      "text/plain": [
       "      age   bmi  children  expenses\n",
       "0      19  27.9         0  16884.92\n",
       "1      18  33.8         1   1725.55\n",
       "2      28  33.0         3   4449.46\n",
       "3      33  22.7         0  21984.47\n",
       "4      32  28.9         0   3866.86\n",
       "...   ...   ...       ...       ...\n",
       "1333   50  31.0         3  10600.55\n",
       "1334   18  31.9         0   2205.98\n",
       "1335   18  36.9         0   1629.83\n",
       "1336   21  25.8         0   2007.95\n",
       "1337   61  29.1         0  29141.36\n",
       "\n",
       "[1338 rows x 4 columns]"
      ]
     },
     "execution_count": 26,
     "metadata": {},
     "output_type": "execute_result"
    }
   ],
   "source": [
    "num"
   ]
  },
  {
   "cell_type": "markdown",
   "id": "90e8d860",
   "metadata": {},
   "source": [
    "## Categorical"
   ]
  },
  {
   "cell_type": "code",
   "execution_count": 27,
   "id": "f181c2ce",
   "metadata": {},
   "outputs": [],
   "source": [
    "cat = df.select_dtypes(include='O')    "
   ]
  },
  {
   "cell_type": "code",
   "execution_count": 28,
   "id": "5f148f4b",
   "metadata": {},
   "outputs": [
    {
     "data": {
      "text/html": [
       "<div>\n",
       "<style scoped>\n",
       "    .dataframe tbody tr th:only-of-type {\n",
       "        vertical-align: middle;\n",
       "    }\n",
       "\n",
       "    .dataframe tbody tr th {\n",
       "        vertical-align: top;\n",
       "    }\n",
       "\n",
       "    .dataframe thead th {\n",
       "        text-align: right;\n",
       "    }\n",
       "</style>\n",
       "<table border=\"1\" class=\"dataframe\">\n",
       "  <thead>\n",
       "    <tr style=\"text-align: right;\">\n",
       "      <th></th>\n",
       "      <th>sex</th>\n",
       "      <th>smoker</th>\n",
       "      <th>region</th>\n",
       "    </tr>\n",
       "  </thead>\n",
       "  <tbody>\n",
       "    <tr>\n",
       "      <th>0</th>\n",
       "      <td>female</td>\n",
       "      <td>yes</td>\n",
       "      <td>southwest</td>\n",
       "    </tr>\n",
       "    <tr>\n",
       "      <th>1</th>\n",
       "      <td>male</td>\n",
       "      <td>no</td>\n",
       "      <td>southeast</td>\n",
       "    </tr>\n",
       "    <tr>\n",
       "      <th>2</th>\n",
       "      <td>male</td>\n",
       "      <td>no</td>\n",
       "      <td>southeast</td>\n",
       "    </tr>\n",
       "    <tr>\n",
       "      <th>3</th>\n",
       "      <td>male</td>\n",
       "      <td>no</td>\n",
       "      <td>northwest</td>\n",
       "    </tr>\n",
       "    <tr>\n",
       "      <th>4</th>\n",
       "      <td>male</td>\n",
       "      <td>no</td>\n",
       "      <td>northwest</td>\n",
       "    </tr>\n",
       "    <tr>\n",
       "      <th>...</th>\n",
       "      <td>...</td>\n",
       "      <td>...</td>\n",
       "      <td>...</td>\n",
       "    </tr>\n",
       "    <tr>\n",
       "      <th>1333</th>\n",
       "      <td>male</td>\n",
       "      <td>no</td>\n",
       "      <td>northwest</td>\n",
       "    </tr>\n",
       "    <tr>\n",
       "      <th>1334</th>\n",
       "      <td>female</td>\n",
       "      <td>no</td>\n",
       "      <td>northeast</td>\n",
       "    </tr>\n",
       "    <tr>\n",
       "      <th>1335</th>\n",
       "      <td>female</td>\n",
       "      <td>no</td>\n",
       "      <td>southeast</td>\n",
       "    </tr>\n",
       "    <tr>\n",
       "      <th>1336</th>\n",
       "      <td>female</td>\n",
       "      <td>no</td>\n",
       "      <td>southwest</td>\n",
       "    </tr>\n",
       "    <tr>\n",
       "      <th>1337</th>\n",
       "      <td>female</td>\n",
       "      <td>yes</td>\n",
       "      <td>northwest</td>\n",
       "    </tr>\n",
       "  </tbody>\n",
       "</table>\n",
       "<p>1338 rows × 3 columns</p>\n",
       "</div>"
      ],
      "text/plain": [
       "         sex smoker     region\n",
       "0     female    yes  southwest\n",
       "1       male     no  southeast\n",
       "2       male     no  southeast\n",
       "3       male     no  northwest\n",
       "4       male     no  northwest\n",
       "...      ...    ...        ...\n",
       "1333    male     no  northwest\n",
       "1334  female     no  northeast\n",
       "1335  female     no  southeast\n",
       "1336  female     no  southwest\n",
       "1337  female    yes  northwest\n",
       "\n",
       "[1338 rows x 3 columns]"
      ]
     },
     "execution_count": 28,
     "metadata": {},
     "output_type": "execute_result"
    }
   ],
   "source": [
    "cat"
   ]
  },
  {
   "cell_type": "markdown",
   "id": "f577b2f4",
   "metadata": {},
   "source": [
    "# Visualization"
   ]
  },
  {
   "cell_type": "markdown",
   "id": "a5cda089",
   "metadata": {},
   "source": [
    "### Kde plot to view how my data is spred"
   ]
  },
  {
   "cell_type": "markdown",
   "id": "8613699e",
   "metadata": {},
   "source": [
    "##### using subplots to view all columns plot in single row"
   ]
  },
  {
   "cell_type": "code",
   "execution_count": 86,
   "id": "8401ab12",
   "metadata": {},
   "outputs": [
    {
     "name": "stderr",
     "output_type": "stream",
     "text": [
      "C:\\Users\\SATHYANARAYANA M\\AppData\\Local\\Temp\\ipykernel_19572\\712761449.py:9: UserWarning: FixedFormatter should only be used together with FixedLocator\n",
      "  z.set_xticklabels(z.get_xticklabels(),rotation=25)\n",
      "C:\\Users\\SATHYANARAYANA M\\AppData\\Local\\Temp\\ipykernel_19572\\712761449.py:9: UserWarning: FixedFormatter should only be used together with FixedLocator\n",
      "  z.set_xticklabels(z.get_xticklabels(),rotation=25)\n",
      "C:\\Users\\SATHYANARAYANA M\\AppData\\Local\\Temp\\ipykernel_19572\\712761449.py:9: UserWarning: FixedFormatter should only be used together with FixedLocator\n",
      "  z.set_xticklabels(z.get_xticklabels(),rotation=25)\n",
      "C:\\Users\\SATHYANARAYANA M\\AppData\\Local\\Temp\\ipykernel_19572\\712761449.py:9: UserWarning: FixedFormatter should only be used together with FixedLocator\n",
      "  z.set_xticklabels(z.get_xticklabels(),rotation=25)\n"
     ]
    },
    {
     "data": {
      "image/png": "[encoded data removed]",
      "text/plain": [
       "<Figure size 1000x500 with 4 Axes>"
      ]
     },
     "metadata": {},
     "output_type": "display_data"
    }
   ],
   "source": [
    "fig,ax= plt.subplots(nrows=1,ncols=4,figsize=(10, 5)) \n",
    "\n",
    "for variable, subplot in zip(num.columns,ax.flatten()):\n",
    "    \n",
    "    z = sns.kdeplot(x = num[variable],ax=subplot )\n",
    "    \n",
    "    z.set_xlabel(variable, fontsize = 10)\n",
    "    \n",
    "    z.set_xticklabels(z.get_xticklabels(),rotation=25)"
   ]
  },
  {
   "cell_type": "markdown",
   "id": "5f67cc55",
   "metadata": {},
   "source": [
    "# countplot "
   ]
  },
  {
   "cell_type": "code",
   "execution_count": 84,
   "id": "7c67d79c",
   "metadata": {},
   "outputs": [
    {
     "data": {
      "text/html": [
       "<div>\n",
       "<style scoped>\n",
       "    .dataframe tbody tr th:only-of-type {\n",
       "        vertical-align: middle;\n",
       "    }\n",
       "\n",
       "    .dataframe tbody tr th {\n",
       "        vertical-align: top;\n",
       "    }\n",
       "\n",
       "    .dataframe thead th {\n",
       "        text-align: right;\n",
       "    }\n",
       "</style>\n",
       "<table border=\"1\" class=\"dataframe\">\n",
       "  <thead>\n",
       "    <tr style=\"text-align: right;\">\n",
       "      <th></th>\n",
       "      <th>male</th>\n",
       "      <th>female</th>\n",
       "      <th>no</th>\n",
       "      <th>yes</th>\n",
       "      <th>southeast</th>\n",
       "      <th>northwest</th>\n",
       "      <th>southwest</th>\n",
       "      <th>northeast</th>\n",
       "    </tr>\n",
       "  </thead>\n",
       "  <tbody>\n",
       "    <tr>\n",
       "      <th>0</th>\n",
       "      <td>0.505232</td>\n",
       "      <td>0.494768</td>\n",
       "      <td>NaN</td>\n",
       "      <td>NaN</td>\n",
       "      <td>NaN</td>\n",
       "      <td>NaN</td>\n",
       "      <td>NaN</td>\n",
       "      <td>NaN</td>\n",
       "    </tr>\n",
       "    <tr>\n",
       "      <th>1</th>\n",
       "      <td>NaN</td>\n",
       "      <td>NaN</td>\n",
       "      <td>0.795217</td>\n",
       "      <td>0.204783</td>\n",
       "      <td>NaN</td>\n",
       "      <td>NaN</td>\n",
       "      <td>NaN</td>\n",
       "      <td>NaN</td>\n",
       "    </tr>\n",
       "    <tr>\n",
       "      <th>2</th>\n",
       "      <td>NaN</td>\n",
       "      <td>NaN</td>\n",
       "      <td>NaN</td>\n",
       "      <td>NaN</td>\n",
       "      <td>0.272048</td>\n",
       "      <td>0.2429</td>\n",
       "      <td>0.2429</td>\n",
       "      <td>0.242152</td>\n",
       "    </tr>\n",
       "  </tbody>\n",
       "</table>\n",
       "</div>"
      ],
      "text/plain": [
       "       male    female        no       yes  southeast  northwest  southwest  \\\n",
       "0  0.505232  0.494768       NaN       NaN        NaN        NaN        NaN   \n",
       "1       NaN       NaN  0.795217  0.204783        NaN        NaN        NaN   \n",
       "2       NaN       NaN       NaN       NaN   0.272048     0.2429     0.2429   \n",
       "\n",
       "   northeast  \n",
       "0        NaN  \n",
       "1        NaN  \n",
       "2   0.242152  "
      ]
     },
     "execution_count": 84,
     "metadata": {},
     "output_type": "execute_result"
    }
   ],
   "source": [
    "a = []\n",
    "for i in cat.columns:\n",
    "    vv = cat.value_counts(i,normalize=True)\n",
    "    a.append(vv)\n",
    "    \n",
    "pd.DataFrame(a)"
   ]
  },
  {
   "cell_type": "code",
   "execution_count": 82,
   "id": "2e276a76",
   "metadata": {
    "scrolled": false
   },
   "outputs": [
    {
     "data": {
      "image/png": "[encoded data removed]",
      "text/plain": [
       "<Figure size 1000x500 with 3 Axes>"
      ]
     },
     "metadata": {},
     "output_type": "display_data"
    }
   ],
   "source": [
    "fig,ax= plt.subplots(nrows=1,ncols=3,figsize=(10, 5)) \n",
    "\n",
    "for variable, subplot in zip(cat.columns,ax.flatten()):\n",
    "    z = sns.countplot(x = cat[variable],ax=subplot )\n",
    "    z.set_xlabel(variable, fontsize = 15)\n",
    "    z.set_xticklabels(z.get_xticklabels(),rotation=25)"
   ]
  },
  {
   "cell_type": "code",
   "execution_count": 83,
   "id": "cc934a5c",
   "metadata": {},
   "outputs": [
    {
     "data": {
      "text/plain": [
       "sex\n",
       "male      0.505232\n",
       "female    0.494768\n",
       "dtype: float64"
      ]
     },
     "execution_count": 83,
     "metadata": {},
     "output_type": "execute_result"
    }
   ],
   "source": [
    "df.value_counts('sex',normalize=True)"
   ]
  },
  {
   "cell_type": "code",
   "execution_count": 59,
   "id": "fda6399f",
   "metadata": {},
   "outputs": [
    {
     "data": {
      "text/plain": [
       "Text(0.5, 1.0, 'somker based on sex')"
      ]
     },
     "execution_count": 59,
     "metadata": {},
     "output_type": "execute_result"
    },
    {
     "data": {
      "image/png": "[encoded data removed]",
      "text/plain": [
       "<Figure size 640x480 with 1 Axes>"
      ]
     },
     "metadata": {},
     "output_type": "display_data"
    }
   ],
   "source": [
    "sns.countplot(x=\"smoker\", data=cat, hue = 'sex',color=(0.1, 0.2, 0.5))\n",
    "plt.xlabel('smoker')\n",
    "plt.title('somker based on sex')"
   ]
  },
  {
   "cell_type": "code",
   "execution_count": 57,
   "id": "f2ad06a1",
   "metadata": {},
   "outputs": [
    {
     "data": {
      "text/plain": [
       "Text(0.5, 1.0, 'region based on smoker')"
      ]
     },
     "execution_count": 57,
     "metadata": {},
     "output_type": "execute_result"
    },
    {
     "data": {
      "image/png": "[encoded data removed]",
      "text/plain": [
       "<Figure size 640x480 with 1 Axes>"
      ]
     },
     "metadata": {},
     "output_type": "display_data"
    }
   ],
   "source": [
    "sns.countplot(x=\"region\", data=cat, hue = 'smoker',color='mediumseagreen')\n",
    "plt.xlabel('region')\n",
    "plt.title('region based on smoker')"
   ]
  },
  {
   "cell_type": "code",
   "execution_count": 66,
   "id": "7e08d857",
   "metadata": {},
   "outputs": [],
   "source": [
    "def aa(y):\n",
    "    sns.countplot(x=y, data=df)\n",
    "    return df.value_counts(y)"
   ]
  },
  {
   "cell_type": "code",
   "execution_count": 67,
   "id": "c027020d",
   "metadata": {},
   "outputs": [
    {
     "data": {
      "text/plain": [
       "children\n",
       "0    574\n",
       "1    324\n",
       "2    240\n",
       "3    157\n",
       "4     25\n",
       "5     18\n",
       "dtype: int64"
      ]
     },
     "execution_count": 67,
     "metadata": {},
     "output_type": "execute_result"
    },
    {
     "data": {
      "image/png": "[encoded data removed]",
      "text/plain": [
       "<Figure size 640x480 with 1 Axes>"
      ]
     },
     "metadata": {},
     "output_type": "display_data"
    }
   ],
   "source": [
    "aa('children')"
   ]
  },
  {
   "cell_type": "markdown",
   "id": "7c24891a",
   "metadata": {},
   "source": [
    "# Checking Outlier"
   ]
  },
  {
   "cell_type": "code",
   "execution_count": 146,
   "id": "a8e7ec6b",
   "metadata": {
    "scrolled": true
   },
   "outputs": [
    {
     "data": {
      "text/plain": [
       "<Axes: >"
      ]
     },
     "execution_count": 146,
     "metadata": {},
     "output_type": "execute_result"
    },
    {
     "data": {
      "image/png": "[encoded data removed]",
      "text/plain": [
       "<Figure size 640x480 with 1 Axes>"
      ]
     },
     "metadata": {},
     "output_type": "display_data"
    }
   ],
   "source": [
    "sns.boxplot(df.expenses)"
   ]
  },
  {
   "cell_type": "markdown",
   "id": "9104dd99",
   "metadata": {},
   "source": [
    "# Removing Outlier"
   ]
  },
  {
   "cell_type": "code",
   "execution_count": 147,
   "id": "1cd7aab1",
   "metadata": {},
   "outputs": [],
   "source": [
    "\n",
    "percentile25 = df['expenses'].quantile(0.25)\n",
    "percentile75 = df['expenses'].quantile(0.75)\n",
    "IQR = percentile75 - percentile25\n",
    "upper_limit = percentile75 + 1.5 * IQR\n",
    "lower_limit = percentile25 - 1.5 * IQR"
   ]
  },
  {
   "cell_type": "code",
   "execution_count": 148,
   "id": "a83c7bf6",
   "metadata": {},
   "outputs": [
    {
     "name": "stdout",
     "output_type": "stream",
     "text": [
      "34489.35625\n",
      "-13109.15375\n"
     ]
    }
   ],
   "source": [
    "print(upper_limit)\n",
    "print(lower_limit)"
   ]
  },
  {
   "cell_type": "code",
   "execution_count": 149,
   "id": "d1867e34",
   "metadata": {},
   "outputs": [],
   "source": [
    "df['expenses'] = np.where(df['expenses'] > upper_limit, upper_limit, df['expenses'])"
   ]
  },
  {
   "cell_type": "code",
   "execution_count": 150,
   "id": "d76c4276",
   "metadata": {},
   "outputs": [
    {
     "data": {
      "text/plain": [
       "<Axes: >"
      ]
     },
     "execution_count": 150,
     "metadata": {},
     "output_type": "execute_result"
    },
    {
     "data": {
      "image/png": "[encoded data removed]",
      "text/plain": [
       "<Figure size 640x480 with 1 Axes>"
      ]
     },
     "metadata": {},
     "output_type": "display_data"
    }
   ],
   "source": [
    "sns.boxplot(df.expenses)"
   ]
  },
  {
   "cell_type": "markdown",
   "id": "eac60da6",
   "metadata": {},
   "source": [
    "# LableEncoder"
   ]
  },
  {
   "cell_type": "code",
   "execution_count": 152,
   "id": "ac0af8a0",
   "metadata": {},
   "outputs": [],
   "source": [
    "uni = []\n",
    "for i in cat.columns:\n",
    "    a = np.unique(cat[i]) ########### unique use in numpy\n",
    "    uni.append(a)"
   ]
  },
  {
   "cell_type": "code",
   "execution_count": 153,
   "id": "a1fb1a58",
   "metadata": {
    "scrolled": true
   },
   "outputs": [
    {
     "data": {
      "text/plain": [
       "[array(['female', 'male'], dtype=object),\n",
       " array(['no', 'yes'], dtype=object),\n",
       " array(['northeast', 'northwest', 'southeast', 'southwest'], dtype=object)]"
      ]
     },
     "execution_count": 153,
     "metadata": {},
     "output_type": "execute_result"
    }
   ],
   "source": [
    "uni"
   ]
  },
  {
   "cell_type": "code",
   "execution_count": 154,
   "id": "9f28425d",
   "metadata": {},
   "outputs": [],
   "source": [
    "from sklearn.preprocessing import LabelEncoder"
   ]
  },
  {
   "cell_type": "code",
   "execution_count": 155,
   "id": "77d734b2",
   "metadata": {},
   "outputs": [],
   "source": [
    "LabelEncoder_1 = LabelEncoder()"
   ]
  },
  {
   "cell_type": "code",
   "execution_count": 156,
   "id": "e1444887",
   "metadata": {},
   "outputs": [
    {
     "data": {
      "text/plain": [
       "array([0, 1, 1, ..., 0, 0, 0], dtype=int64)"
      ]
     },
     "execution_count": 156,
     "metadata": {},
     "output_type": "execute_result"
    }
   ],
   "source": [
    "LabelEncoder_1.fit_transform(df['sex'])"
   ]
  },
  {
   "cell_type": "code",
   "execution_count": 157,
   "id": "6be2e8fb",
   "metadata": {},
   "outputs": [],
   "source": [
    "df['sex'] = LabelEncoder_1.fit_transform(df['sex'])"
   ]
  },
  {
   "cell_type": "code",
   "execution_count": 158,
   "id": "5dcd5604",
   "metadata": {},
   "outputs": [
    {
     "data": {
      "text/plain": [
       "0       0\n",
       "1       1\n",
       "2       1\n",
       "3       1\n",
       "4       1\n",
       "       ..\n",
       "1333    1\n",
       "1334    0\n",
       "1335    0\n",
       "1336    0\n",
       "1337    0\n",
       "Name: sex, Length: 1338, dtype: int64"
      ]
     },
     "execution_count": 158,
     "metadata": {},
     "output_type": "execute_result"
    }
   ],
   "source": [
    "df['sex']"
   ]
  },
  {
   "cell_type": "code",
   "execution_count": 159,
   "id": "df2236f2",
   "metadata": {},
   "outputs": [],
   "source": [
    "df['region'] = LabelEncoder_1.fit_transform(df['region'])"
   ]
  },
  {
   "cell_type": "code",
   "execution_count": 160,
   "id": "eaeb0a9d",
   "metadata": {},
   "outputs": [],
   "source": [
    "df['smoker'] = LabelEncoder_1.fit_transform(df['smoker'])"
   ]
  },
  {
   "cell_type": "code",
   "execution_count": 161,
   "id": "b07fb39e",
   "metadata": {},
   "outputs": [
    {
     "data": {
      "text/html": [
       "<div>\n",
       "<style scoped>\n",
       "    .dataframe tbody tr th:only-of-type {\n",
       "        vertical-align: middle;\n",
       "    }\n",
       "\n",
       "    .dataframe tbody tr th {\n",
       "        vertical-align: top;\n",
       "    }\n",
       "\n",
       "    .dataframe thead th {\n",
       "        text-align: right;\n",
       "    }\n",
       "</style>\n",
       "<table border=\"1\" class=\"dataframe\">\n",
       "  <thead>\n",
       "    <tr style=\"text-align: right;\">\n",
       "      <th></th>\n",
       "      <th>age</th>\n",
       "      <th>sex</th>\n",
       "      <th>bmi</th>\n",
       "      <th>children</th>\n",
       "      <th>smoker</th>\n",
       "      <th>region</th>\n",
       "      <th>expenses</th>\n",
       "    </tr>\n",
       "  </thead>\n",
       "  <tbody>\n",
       "    <tr>\n",
       "      <th>0</th>\n",
       "      <td>19</td>\n",
       "      <td>0</td>\n",
       "      <td>27.9</td>\n",
       "      <td>0</td>\n",
       "      <td>1</td>\n",
       "      <td>3</td>\n",
       "      <td>16884.92</td>\n",
       "    </tr>\n",
       "    <tr>\n",
       "      <th>1</th>\n",
       "      <td>18</td>\n",
       "      <td>1</td>\n",
       "      <td>33.8</td>\n",
       "      <td>1</td>\n",
       "      <td>0</td>\n",
       "      <td>2</td>\n",
       "      <td>1725.55</td>\n",
       "    </tr>\n",
       "    <tr>\n",
       "      <th>2</th>\n",
       "      <td>28</td>\n",
       "      <td>1</td>\n",
       "      <td>33.0</td>\n",
       "      <td>3</td>\n",
       "      <td>0</td>\n",
       "      <td>2</td>\n",
       "      <td>4449.46</td>\n",
       "    </tr>\n",
       "    <tr>\n",
       "      <th>3</th>\n",
       "      <td>33</td>\n",
       "      <td>1</td>\n",
       "      <td>22.7</td>\n",
       "      <td>0</td>\n",
       "      <td>0</td>\n",
       "      <td>1</td>\n",
       "      <td>21984.47</td>\n",
       "    </tr>\n",
       "    <tr>\n",
       "      <th>4</th>\n",
       "      <td>32</td>\n",
       "      <td>1</td>\n",
       "      <td>28.9</td>\n",
       "      <td>0</td>\n",
       "      <td>0</td>\n",
       "      <td>1</td>\n",
       "      <td>3866.86</td>\n",
       "    </tr>\n",
       "    <tr>\n",
       "      <th>...</th>\n",
       "      <td>...</td>\n",
       "      <td>...</td>\n",
       "      <td>...</td>\n",
       "      <td>...</td>\n",
       "      <td>...</td>\n",
       "      <td>...</td>\n",
       "      <td>...</td>\n",
       "    </tr>\n",
       "    <tr>\n",
       "      <th>1333</th>\n",
       "      <td>50</td>\n",
       "      <td>1</td>\n",
       "      <td>31.0</td>\n",
       "      <td>3</td>\n",
       "      <td>0</td>\n",
       "      <td>1</td>\n",
       "      <td>10600.55</td>\n",
       "    </tr>\n",
       "    <tr>\n",
       "      <th>1334</th>\n",
       "      <td>18</td>\n",
       "      <td>0</td>\n",
       "      <td>31.9</td>\n",
       "      <td>0</td>\n",
       "      <td>0</td>\n",
       "      <td>0</td>\n",
       "      <td>2205.98</td>\n",
       "    </tr>\n",
       "    <tr>\n",
       "      <th>1335</th>\n",
       "      <td>18</td>\n",
       "      <td>0</td>\n",
       "      <td>36.9</td>\n",
       "      <td>0</td>\n",
       "      <td>0</td>\n",
       "      <td>2</td>\n",
       "      <td>1629.83</td>\n",
       "    </tr>\n",
       "    <tr>\n",
       "      <th>1336</th>\n",
       "      <td>21</td>\n",
       "      <td>0</td>\n",
       "      <td>25.8</td>\n",
       "      <td>0</td>\n",
       "      <td>0</td>\n",
       "      <td>3</td>\n",
       "      <td>2007.95</td>\n",
       "    </tr>\n",
       "    <tr>\n",
       "      <th>1337</th>\n",
       "      <td>61</td>\n",
       "      <td>0</td>\n",
       "      <td>29.1</td>\n",
       "      <td>0</td>\n",
       "      <td>1</td>\n",
       "      <td>1</td>\n",
       "      <td>29141.36</td>\n",
       "    </tr>\n",
       "  </tbody>\n",
       "</table>\n",
       "<p>1338 rows × 7 columns</p>\n",
       "</div>"
      ],
      "text/plain": [
       "      age  sex   bmi  children  smoker  region  expenses\n",
       "0      19    0  27.9         0       1       3  16884.92\n",
       "1      18    1  33.8         1       0       2   1725.55\n",
       "2      28    1  33.0         3       0       2   4449.46\n",
       "3      33    1  22.7         0       0       1  21984.47\n",
       "4      32    1  28.9         0       0       1   3866.86\n",
       "...   ...  ...   ...       ...     ...     ...       ...\n",
       "1333   50    1  31.0         3       0       1  10600.55\n",
       "1334   18    0  31.9         0       0       0   2205.98\n",
       "1335   18    0  36.9         0       0       2   1629.83\n",
       "1336   21    0  25.8         0       0       3   2007.95\n",
       "1337   61    0  29.1         0       1       1  29141.36\n",
       "\n",
       "[1338 rows x 7 columns]"
      ]
     },
     "execution_count": 161,
     "metadata": {},
     "output_type": "execute_result"
    }
   ],
   "source": [
    "df"
   ]
  },
  {
   "cell_type": "markdown",
   "id": "0c2417c3",
   "metadata": {},
   "source": [
    "# spliting x and y"
   ]
  },
  {
   "cell_type": "code",
   "execution_count": 162,
   "id": "1fd3dcff",
   "metadata": {},
   "outputs": [],
   "source": [
    "x = df.iloc[:,:-1]"
   ]
  },
  {
   "cell_type": "code",
   "execution_count": 163,
   "id": "0c0a19a3",
   "metadata": {},
   "outputs": [
    {
     "data": {
      "text/html": [
       "<div>\n",
       "<style scoped>\n",
       "    .dataframe tbody tr th:only-of-type {\n",
       "        vertical-align: middle;\n",
       "    }\n",
       "\n",
       "    .dataframe tbody tr th {\n",
       "        vertical-align: top;\n",
       "    }\n",
       "\n",
       "    .dataframe thead th {\n",
       "        text-align: right;\n",
       "    }\n",
       "</style>\n",
       "<table border=\"1\" class=\"dataframe\">\n",
       "  <thead>\n",
       "    <tr style=\"text-align: right;\">\n",
       "      <th></th>\n",
       "      <th>age</th>\n",
       "      <th>sex</th>\n",
       "      <th>bmi</th>\n",
       "      <th>children</th>\n",
       "      <th>smoker</th>\n",
       "      <th>region</th>\n",
       "    </tr>\n",
       "  </thead>\n",
       "  <tbody>\n",
       "    <tr>\n",
       "      <th>0</th>\n",
       "      <td>19</td>\n",
       "      <td>0</td>\n",
       "      <td>27.9</td>\n",
       "      <td>0</td>\n",
       "      <td>1</td>\n",
       "      <td>3</td>\n",
       "    </tr>\n",
       "    <tr>\n",
       "      <th>1</th>\n",
       "      <td>18</td>\n",
       "      <td>1</td>\n",
       "      <td>33.8</td>\n",
       "      <td>1</td>\n",
       "      <td>0</td>\n",
       "      <td>2</td>\n",
       "    </tr>\n",
       "    <tr>\n",
       "      <th>2</th>\n",
       "      <td>28</td>\n",
       "      <td>1</td>\n",
       "      <td>33.0</td>\n",
       "      <td>3</td>\n",
       "      <td>0</td>\n",
       "      <td>2</td>\n",
       "    </tr>\n",
       "    <tr>\n",
       "      <th>3</th>\n",
       "      <td>33</td>\n",
       "      <td>1</td>\n",
       "      <td>22.7</td>\n",
       "      <td>0</td>\n",
       "      <td>0</td>\n",
       "      <td>1</td>\n",
       "    </tr>\n",
       "    <tr>\n",
       "      <th>4</th>\n",
       "      <td>32</td>\n",
       "      <td>1</td>\n",
       "      <td>28.9</td>\n",
       "      <td>0</td>\n",
       "      <td>0</td>\n",
       "      <td>1</td>\n",
       "    </tr>\n",
       "    <tr>\n",
       "      <th>...</th>\n",
       "      <td>...</td>\n",
       "      <td>...</td>\n",
       "      <td>...</td>\n",
       "      <td>...</td>\n",
       "      <td>...</td>\n",
       "      <td>...</td>\n",
       "    </tr>\n",
       "    <tr>\n",
       "      <th>1333</th>\n",
       "      <td>50</td>\n",
       "      <td>1</td>\n",
       "      <td>31.0</td>\n",
       "      <td>3</td>\n",
       "      <td>0</td>\n",
       "      <td>1</td>\n",
       "    </tr>\n",
       "    <tr>\n",
       "      <th>1334</th>\n",
       "      <td>18</td>\n",
       "      <td>0</td>\n",
       "      <td>31.9</td>\n",
       "      <td>0</td>\n",
       "      <td>0</td>\n",
       "      <td>0</td>\n",
       "    </tr>\n",
       "    <tr>\n",
       "      <th>1335</th>\n",
       "      <td>18</td>\n",
       "      <td>0</td>\n",
       "      <td>36.9</td>\n",
       "      <td>0</td>\n",
       "      <td>0</td>\n",
       "      <td>2</td>\n",
       "    </tr>\n",
       "    <tr>\n",
       "      <th>1336</th>\n",
       "      <td>21</td>\n",
       "      <td>0</td>\n",
       "      <td>25.8</td>\n",
       "      <td>0</td>\n",
       "      <td>0</td>\n",
       "      <td>3</td>\n",
       "    </tr>\n",
       "    <tr>\n",
       "      <th>1337</th>\n",
       "      <td>61</td>\n",
       "      <td>0</td>\n",
       "      <td>29.1</td>\n",
       "      <td>0</td>\n",
       "      <td>1</td>\n",
       "      <td>1</td>\n",
       "    </tr>\n",
       "  </tbody>\n",
       "</table>\n",
       "<p>1338 rows × 6 columns</p>\n",
       "</div>"
      ],
      "text/plain": [
       "      age  sex   bmi  children  smoker  region\n",
       "0      19    0  27.9         0       1       3\n",
       "1      18    1  33.8         1       0       2\n",
       "2      28    1  33.0         3       0       2\n",
       "3      33    1  22.7         0       0       1\n",
       "4      32    1  28.9         0       0       1\n",
       "...   ...  ...   ...       ...     ...     ...\n",
       "1333   50    1  31.0         3       0       1\n",
       "1334   18    0  31.9         0       0       0\n",
       "1335   18    0  36.9         0       0       2\n",
       "1336   21    0  25.8         0       0       3\n",
       "1337   61    0  29.1         0       1       1\n",
       "\n",
       "[1338 rows x 6 columns]"
      ]
     },
     "execution_count": 163,
     "metadata": {},
     "output_type": "execute_result"
    }
   ],
   "source": [
    "x"
   ]
  },
  {
   "cell_type": "code",
   "execution_count": 164,
   "id": "dd7b5681",
   "metadata": {},
   "outputs": [],
   "source": [
    "y = df.iloc[:,-1]"
   ]
  },
  {
   "cell_type": "code",
   "execution_count": 165,
   "id": "03f32d3e",
   "metadata": {},
   "outputs": [
    {
     "data": {
      "text/plain": [
       "0       16884.92\n",
       "1        1725.55\n",
       "2        4449.46\n",
       "3       21984.47\n",
       "4        3866.86\n",
       "          ...   \n",
       "1333    10600.55\n",
       "1334     2205.98\n",
       "1335     1629.83\n",
       "1336     2007.95\n",
       "1337    29141.36\n",
       "Name: expenses, Length: 1338, dtype: float64"
      ]
     },
     "execution_count": 165,
     "metadata": {},
     "output_type": "execute_result"
    }
   ],
   "source": [
    "y"
   ]
  },
  {
   "cell_type": "markdown",
   "id": "68bcce60",
   "metadata": {},
   "source": [
    "## scaling"
   ]
  },
  {
   "cell_type": "code",
   "execution_count": 166,
   "id": "5ec53c39",
   "metadata": {},
   "outputs": [],
   "source": [
    "from sklearn.preprocessing import StandardScaler"
   ]
  },
  {
   "cell_type": "code",
   "execution_count": 167,
   "id": "d1b53c65",
   "metadata": {},
   "outputs": [],
   "source": [
    "scaler = StandardScaler()"
   ]
  },
  {
   "cell_type": "code",
   "execution_count": 168,
   "id": "543b20e1",
   "metadata": {},
   "outputs": [],
   "source": [
    "x_scaler = scaler.fit_transform(x)"
   ]
  },
  {
   "cell_type": "code",
   "execution_count": 169,
   "id": "f51baa88",
   "metadata": {},
   "outputs": [
    {
     "data": {
      "text/plain": [
       "array([[-1.43876426, -1.0105187 , -0.4536457 , -0.90861367,  1.97058663,\n",
       "         1.34390459],\n",
       "       [-1.50996545,  0.98959079,  0.51418574, -0.07876719, -0.5074631 ,\n",
       "         0.43849455],\n",
       "       [-0.79795355,  0.98959079,  0.38295436,  1.58092576, -0.5074631 ,\n",
       "         0.43849455],\n",
       "       ...,\n",
       "       [-1.50996545, -1.0105187 ,  1.02270734, -0.90861367, -0.5074631 ,\n",
       "         0.43849455],\n",
       "       [-1.29636188, -1.0105187 , -0.79812808, -0.90861367, -0.5074631 ,\n",
       "         1.34390459],\n",
       "       [ 1.55168573, -1.0105187 , -0.25679863, -0.90861367,  1.97058663,\n",
       "        -0.46691549]])"
      ]
     },
     "execution_count": 169,
     "metadata": {},
     "output_type": "execute_result"
    }
   ],
   "source": [
    "x_scaler"
   ]
  },
  {
   "cell_type": "markdown",
   "id": "93b3cea2",
   "metadata": {},
   "source": [
    "# spliting xtrain and ytrain and xtest and ytest"
   ]
  },
  {
   "cell_type": "code",
   "execution_count": 170,
   "id": "221a85b4",
   "metadata": {},
   "outputs": [],
   "source": [
    "from sklearn.model_selection import train_test_split"
   ]
  },
  {
   "cell_type": "code",
   "execution_count": 171,
   "id": "c0147e73",
   "metadata": {},
   "outputs": [],
   "source": [
    "xtrain,xtest,ytrain,ytest = train_test_split(x_scaler,y,test_size=0.3,random_state=42)"
   ]
  },
  {
   "cell_type": "code",
   "execution_count": 172,
   "id": "822277fc",
   "metadata": {},
   "outputs": [
    {
     "data": {
      "text/plain": [
       "(1338, 7)"
      ]
     },
     "execution_count": 172,
     "metadata": {},
     "output_type": "execute_result"
    }
   ],
   "source": [
    "df.shape"
   ]
  },
  {
   "cell_type": "code",
   "execution_count": 173,
   "id": "ebd8fba4",
   "metadata": {},
   "outputs": [
    {
     "name": "stdout",
     "output_type": "stream",
     "text": [
      "(936, 6)\n",
      "(402, 6)\n",
      "(936,)\n",
      "(402,)\n"
     ]
    }
   ],
   "source": [
    "print(xtrain.shape)\n",
    "print(xtest.shape)\n",
    "print(ytrain.shape)\n",
    "print(ytest.shape)"
   ]
  },
  {
   "cell_type": "markdown",
   "id": "7c64aed7",
   "metadata": {},
   "source": [
    "# linear Regression OLS method"
   ]
  },
  {
   "cell_type": "code",
   "execution_count": 174,
   "id": "8f76273f",
   "metadata": {},
   "outputs": [],
   "source": [
    "from sklearn.linear_model import LinearRegression"
   ]
  },
  {
   "cell_type": "code",
   "execution_count": 175,
   "id": "1068b0eb",
   "metadata": {},
   "outputs": [],
   "source": [
    "import statsmodels.api as sm"
   ]
  },
  {
   "cell_type": "code",
   "execution_count": 176,
   "id": "25bb98a8",
   "metadata": {},
   "outputs": [],
   "source": [
    "X = sm.add_constant(x_scaler)"
   ]
  },
  {
   "cell_type": "code",
   "execution_count": 177,
   "id": "e7d96138",
   "metadata": {},
   "outputs": [],
   "source": [
    "model_1 = sm.OLS(y, X)"
   ]
  },
  {
   "cell_type": "code",
   "execution_count": 178,
   "id": "e293b00c",
   "metadata": {},
   "outputs": [
    {
     "data": {
      "text/plain": [
       "<statsmodels.regression.linear_model.OLS at 0x1d3feba5720>"
      ]
     },
     "execution_count": 178,
     "metadata": {},
     "output_type": "execute_result"
    }
   ],
   "source": [
    "model_1"
   ]
  },
  {
   "cell_type": "code",
   "execution_count": 179,
   "id": "24fb7356",
   "metadata": {},
   "outputs": [],
   "source": [
    "results = model_1.fit()"
   ]
  },
  {
   "cell_type": "code",
   "execution_count": 180,
   "id": "366a98c6",
   "metadata": {},
   "outputs": [
    {
     "data": {
      "text/html": [
       "<table class=\"simpletable\">\n",
       "<caption>OLS Regression Results</caption>\n",
       "<tr>\n",
       "  <th>Dep. Variable:</th>        <td>expenses</td>     <th>  R-squared:         </th> <td>   0.748</td> \n",
       "</tr>\n",
       "<tr>\n",
       "  <th>Model:</th>                   <td>OLS</td>       <th>  Adj. R-squared:    </th> <td>   0.746</td> \n",
       "</tr>\n",
       "<tr>\n",
       "  <th>Method:</th>             <td>Least Squares</td>  <th>  F-statistic:       </th> <td>   657.0</td> \n",
       "</tr>\n",
       "<tr>\n",
       "  <th>Date:</th>             <td>Sun, 07 May 2023</td> <th>  Prob (F-statistic):</th>  <td>  0.00</td>  \n",
       "</tr>\n",
       "<tr>\n",
       "  <th>Time:</th>                 <td>01:06:01</td>     <th>  Log-Likelihood:    </th> <td> -13322.</td> \n",
       "</tr>\n",
       "<tr>\n",
       "  <th>No. Observations:</th>      <td>  1338</td>      <th>  AIC:               </th> <td>2.666e+04</td>\n",
       "</tr>\n",
       "<tr>\n",
       "  <th>Df Residuals:</th>          <td>  1331</td>      <th>  BIC:               </th> <td>2.669e+04</td>\n",
       "</tr>\n",
       "<tr>\n",
       "  <th>Df Model:</th>              <td>     6</td>      <th>                     </th>     <td> </td>    \n",
       "</tr>\n",
       "<tr>\n",
       "  <th>Covariance Type:</th>      <td>nonrobust</td>    <th>                     </th>     <td> </td>    \n",
       "</tr>\n",
       "</table>\n",
       "<table class=\"simpletable\">\n",
       "<tr>\n",
       "    <td></td>       <th>coef</th>     <th>std err</th>      <th>t</th>      <th>P>|t|</th>  <th>[0.025</th>    <th>0.975]</th>  \n",
       "</tr>\n",
       "<tr>\n",
       "  <th>const</th> <td> 1.248e+04</td> <td>  139.840</td> <td>   89.240</td> <td> 0.000</td> <td> 1.22e+04</td> <td> 1.28e+04</td>\n",
       "</tr>\n",
       "<tr>\n",
       "  <th>x1</th>    <td> 3218.0376</td> <td>  140.913</td> <td>   22.837</td> <td> 0.000</td> <td> 2941.601</td> <td> 3494.474</td>\n",
       "</tr>\n",
       "<tr>\n",
       "  <th>x2</th>    <td>  -83.2338</td> <td>  140.460</td> <td>   -0.593</td> <td> 0.554</td> <td> -358.781</td> <td>  192.313</td>\n",
       "</tr>\n",
       "<tr>\n",
       "  <th>x3</th>    <td> 1300.4239</td> <td>  142.649</td> <td>    9.116</td> <td> 0.000</td> <td> 1020.582</td> <td> 1580.266</td>\n",
       "</tr>\n",
       "<tr>\n",
       "  <th>x4</th>    <td>  534.6993</td> <td>  140.013</td> <td>    3.819</td> <td> 0.000</td> <td>  260.029</td> <td>  809.370</td>\n",
       "</tr>\n",
       "<tr>\n",
       "  <th>x5</th>    <td> 8057.5960</td> <td>  140.291</td> <td>   57.435</td> <td> 0.000</td> <td> 7782.380</td> <td> 8332.812</td>\n",
       "</tr>\n",
       "<tr>\n",
       "  <th>x6</th>    <td> -373.9918</td> <td>  141.641</td> <td>   -2.640</td> <td> 0.008</td> <td> -651.856</td> <td>  -96.128</td>\n",
       "</tr>\n",
       "</table>\n",
       "<table class=\"simpletable\">\n",
       "<tr>\n",
       "  <th>Omnibus:</th>       <td>501.205</td> <th>  Durbin-Watson:     </th> <td>   2.101</td>\n",
       "</tr>\n",
       "<tr>\n",
       "  <th>Prob(Omnibus):</th> <td> 0.000</td>  <th>  Jarque-Bera (JB):  </th> <td>1725.285</td>\n",
       "</tr>\n",
       "<tr>\n",
       "  <th>Skew:</th>          <td> 1.858</td>  <th>  Prob(JB):          </th> <td>    0.00</td>\n",
       "</tr>\n",
       "<tr>\n",
       "  <th>Kurtosis:</th>      <td> 7.140</td>  <th>  Cond. No.          </th> <td>    1.23</td>\n",
       "</tr>\n",
       "</table><br/><br/>Notes:<br/>[1] Standard Errors assume that the covariance matrix of the errors is correctly specified."
      ],
      "text/plain": [
       "<class 'statsmodels.iolib.summary.Summary'>\n",
       "\"\"\"\n",
       "                            OLS Regression Results                            \n",
       "==============================================================================\n",
       "Dep. Variable:               expenses   R-squared:                       0.748\n",
       "Model:                            OLS   Adj. R-squared:                  0.746\n",
       "Method:                 Least Squares   F-statistic:                     657.0\n",
       "Date:                Sun, 07 May 2023   Prob (F-statistic):               0.00\n",
       "Time:                        01:06:01   Log-Likelihood:                -13322.\n",
       "No. Observations:                1338   AIC:                         2.666e+04\n",
       "Df Residuals:                    1331   BIC:                         2.669e+04\n",
       "Df Model:                           6                                         \n",
       "Covariance Type:            nonrobust                                         \n",
       "==============================================================================\n",
       "                 coef    std err          t      P>|t|      [0.025      0.975]\n",
       "------------------------------------------------------------------------------\n",
       "const       1.248e+04    139.840     89.240      0.000    1.22e+04    1.28e+04\n",
       "x1          3218.0376    140.913     22.837      0.000    2941.601    3494.474\n",
       "x2           -83.2338    140.460     -0.593      0.554    -358.781     192.313\n",
       "x3          1300.4239    142.649      9.116      0.000    1020.582    1580.266\n",
       "x4           534.6993    140.013      3.819      0.000     260.029     809.370\n",
       "x5          8057.5960    140.291     57.435      0.000    7782.380    8332.812\n",
       "x6          -373.9918    141.641     -2.640      0.008    -651.856     -96.128\n",
       "==============================================================================\n",
       "Omnibus:                      501.205   Durbin-Watson:                   2.101\n",
       "Prob(Omnibus):                  0.000   Jarque-Bera (JB):             1725.285\n",
       "Skew:                           1.858   Prob(JB):                         0.00\n",
       "Kurtosis:                       7.140   Cond. No.                         1.23\n",
       "==============================================================================\n",
       "\n",
       "Notes:\n",
       "[1] Standard Errors assume that the covariance matrix of the errors is correctly specified.\n",
       "\"\"\""
      ]
     },
     "execution_count": 180,
     "metadata": {},
     "output_type": "execute_result"
    }
   ],
   "source": [
    "results.summary()"
   ]
  },
  {
   "cell_type": "markdown",
   "id": "e47c04e5",
   "metadata": {},
   "source": [
    "# Different models"
   ]
  },
  {
   "cell_type": "code",
   "execution_count": 181,
   "id": "c374774b",
   "metadata": {},
   "outputs": [],
   "source": [
    "from sklearn.model_selection import train_test_split\n",
    "x_train,x_test,y_train,y_test = train_test_split(x_scaler,y,test_size=0.3,random_state=42)"
   ]
  },
  {
   "cell_type": "code",
   "execution_count": 182,
   "id": "eb62e317",
   "metadata": {},
   "outputs": [
    {
     "name": "stdout",
     "output_type": "stream",
     "text": [
      "(936, 6)\n",
      "(402, 6)\n",
      "(936,)\n",
      "(402,)\n"
     ]
    }
   ],
   "source": [
    "print(x_train.shape)\n",
    "print(x_test.shape)\n",
    "print(y_train.shape)\n",
    "print(y_test.shape)"
   ]
  },
  {
   "cell_type": "code",
   "execution_count": 183,
   "id": "87d563b2",
   "metadata": {},
   "outputs": [
    {
     "data": {
      "text/html": [
       "<style>#sk-container-id-3 {color: black;background-color: white;}#sk-container-id-3 pre{padding: 0;}#sk-container-id-3 div.sk-toggleable {background-color: white;}#sk-container-id-3 label.sk-toggleable__label {cursor: pointer;display: block;width: 100%;margin-bottom: 0;padding: 0.3em;box-sizing: border-box;text-align: center;}#sk-container-id-3 label.sk-toggleable__label-arrow:before {content: \"▸\";float: left;margin-right: 0.25em;color: #696969;}#sk-container-id-3 label.sk-toggleable__label-arrow:hover:before {color: black;}#sk-container-id-3 div.sk-estimator:hover label.sk-toggleable__label-arrow:before {color: black;}#sk-container-id-3 div.sk-toggleable__content {max-height: 0;max-width: 0;overflow: hidden;text-align: left;background-color: #f0f8ff;}#sk-container-id-3 div.sk-toggleable__content pre {margin: 0.2em;color: black;border-radius: 0.25em;background-color: #f0f8ff;}#sk-container-id-3 input.sk-toggleable__control:checked~div.sk-toggleable__content {max-height: 200px;max-width: 100%;overflow: auto;}#sk-container-id-3 input.sk-toggleable__control:checked~label.sk-toggleable__label-arrow:before {content: \"▾\";}#sk-container-id-3 div.sk-estimator input.sk-toggleable__control:checked~label.sk-toggleable__label {background-color: #d4ebff;}#sk-container-id-3 div.sk-label input.sk-toggleable__control:checked~label.sk-toggleable__label {background-color: #d4ebff;}#sk-container-id-3 input.sk-hidden--visually {border: 0;clip: rect(1px 1px 1px 1px);clip: rect(1px, 1px, 1px, 1px);height: 1px;margin: -1px;overflow: hidden;padding: 0;position: absolute;width: 1px;}#sk-container-id-3 div.sk-estimator {font-family: monospace;background-color: #f0f8ff;border: 1px dotted black;border-radius: 0.25em;box-sizing: border-box;margin-bottom: 0.5em;}#sk-container-id-3 div.sk-estimator:hover {background-color: #d4ebff;}#sk-container-id-3 div.sk-parallel-item::after {content: \"\";width: 100%;border-bottom: 1px solid gray;flex-grow: 1;}#sk-container-id-3 div.sk-label:hover label.sk-toggleable__label {background-color: #d4ebff;}#sk-container-id-3 div.sk-serial::before {content: \"\";position: absolute;border-left: 1px solid gray;box-sizing: border-box;top: 0;bottom: 0;left: 50%;z-index: 0;}#sk-container-id-3 div.sk-serial {display: flex;flex-direction: column;align-items: center;background-color: white;padding-right: 0.2em;padding-left: 0.2em;position: relative;}#sk-container-id-3 div.sk-item {position: relative;z-index: 1;}#sk-container-id-3 div.sk-parallel {display: flex;align-items: stretch;justify-content: center;background-color: white;position: relative;}#sk-container-id-3 div.sk-item::before, #sk-container-id-3 div.sk-parallel-item::before {content: \"\";position: absolute;border-left: 1px solid gray;box-sizing: border-box;top: 0;bottom: 0;left: 50%;z-index: -1;}#sk-container-id-3 div.sk-parallel-item {display: flex;flex-direction: column;z-index: 1;position: relative;background-color: white;}#sk-container-id-3 div.sk-parallel-item:first-child::after {align-self: flex-end;width: 50%;}#sk-container-id-3 div.sk-parallel-item:last-child::after {align-self: flex-start;width: 50%;}#sk-container-id-3 div.sk-parallel-item:only-child::after {width: 0;}#sk-container-id-3 div.sk-dashed-wrapped {border: 1px dashed gray;margin: 0 0.4em 0.5em 0.4em;box-sizing: border-box;padding-bottom: 0.4em;background-color: white;}#sk-container-id-3 div.sk-label label {font-family: monospace;font-weight: bold;display: inline-block;line-height: 1.2em;}#sk-container-id-3 div.sk-label-container {text-align: center;}#sk-container-id-3 div.sk-container {/* jupyter's `normalize.less` sets `[hidden] { display: none; }` but bootstrap.min.css set `[hidden] { display: none !important; }` so we also need the `!important` here to be able to override the default hidden behavior on the sphinx rendered scikit-learn.org. See: https://github.com/scikit-learn/scikit-learn/issues/21755 */display: inline-block !important;position: relative;}#sk-container-id-3 div.sk-text-repr-fallback {display: none;}</style><div id=\"sk-container-id-3\" class=\"sk-top-container\"><div class=\"sk-text-repr-fallback\"><pre>LinearRegression()</pre><b>In a Jupyter environment, please rerun this cell to show the HTML representation or trust the notebook. <br />On GitHub, the HTML representation is unable to render, please try loading this page with nbviewer.org.</b></div><div class=\"sk-container\" hidden><div class=\"sk-item\"><div class=\"sk-estimator sk-toggleable\"><input class=\"sk-toggleable__control sk-hidden--visually\" id=\"sk-estimator-id-3\" type=\"checkbox\" checked><label for=\"sk-estimator-id-3\" class=\"sk-toggleable__label sk-toggleable__label-arrow\">LinearRegression</label><div class=\"sk-toggleable__content\"><pre>LinearRegression()</pre></div></div></div></div></div>"
      ],
      "text/plain": [
       "LinearRegression()"
      ]
     },
     "execution_count": 183,
     "metadata": {},
     "output_type": "execute_result"
    }
   ],
   "source": [
    "from sklearn.linear_model import LinearRegression\n",
    "ml = LinearRegression()\n",
    "ml.fit(x_train,y_train)"
   ]
  },
  {
   "cell_type": "code",
   "execution_count": 184,
   "id": "ea19bfb3",
   "metadata": {},
   "outputs": [],
   "source": [
    "y_pred=ml.predict(x_test)"
   ]
  },
  {
   "cell_type": "code",
   "execution_count": 185,
   "id": "940bcf64",
   "metadata": {
    "scrolled": true
   },
   "outputs": [
    {
     "data": {
      "text/plain": [
       "array([ 9381.8221096 ,  7331.48700605, 32917.4297625 ,  9768.6588008 ,\n",
       "       23589.99627459,  9579.23343988,  1684.33192631, 15546.0245425 ,\n",
       "        2858.62020502, 11148.92885112, 25026.22441366,  9341.8894703 ,\n",
       "        5730.12568883, 33129.0247391 , 34845.87888813, 32166.90046099,\n",
       "       13744.89007269, 31315.68844907,  9317.34636339, 28062.05302227,\n",
       "        4718.59565238,  9694.87579208,  2857.84009737,  6621.20572074,\n",
       "       11310.2710687 , 12394.8156751 , 13480.59144604,  6518.90517739,\n",
       "       10164.67318281,  2841.56405688,  9097.89820792, 12598.85062731,\n",
       "        4701.28374996,  4832.16178002,  4776.99346286, 11871.53653166,\n",
       "        2864.4403815 ,  8752.11113994, 29894.30737878, 28384.49886834,\n",
       "        4474.55143959,  4739.78775062, 13108.22199394, 11551.85061437,\n",
       "        8398.80960779, 11834.66719606,  5471.82870971,  4093.11686971,\n",
       "       30970.55724682,  8531.48493688, 14732.47147122,  3073.59402879,\n",
       "       11257.81800971,  2493.23136635, 12611.674755  , 12049.68447286,\n",
       "        5130.40340042, 28113.44254737, 12560.41141249, 12300.93621925,\n",
       "       13418.90741275,  9443.4828051 , 15049.95997802,  8358.823685  ,\n",
       "       11520.41196167,  4935.65220639, 23635.1418409 , 11032.52956252,\n",
       "        3463.82951583,  5634.2879112 , 10027.344389  , 11238.08988988,\n",
       "       10577.70042647,  8984.97450299, 11076.28277502,  7025.0019901 ,\n",
       "        7238.57879282, 10971.4644476 ,  6669.36180689,  9037.71943454,\n",
       "        4036.40201112, 32625.37070415,  6578.17749397, 26749.01542438,\n",
       "       29130.12089152, 31018.16587266,  7136.12872908, 12297.85263376,\n",
       "        9894.65722447, 13314.7334487 , 16264.93783244, 31741.19466437,\n",
       "       29479.62535481,  6626.75736245, 27828.20258008,  9140.90631945,\n",
       "       26017.71111991,  4035.20029266, 25500.66376674,  6680.63922661,\n",
       "        5970.27304023,  2581.98045822, 10493.94995537, 13893.91789702,\n",
       "       11885.87742163,  4401.10731212,  9774.80602307, 28649.78796323,\n",
       "        1440.37600371, 29567.26101841,  3475.82041892,  8837.13672822,\n",
       "       13643.23195205, 27801.42922752, 11196.14564532,  4076.38776737,\n",
       "       12776.18884824, 28233.577175  ,  8246.69803144,  4055.46976453,\n",
       "        8300.22340373, 10165.86323237, 14021.5181506 ,  5556.32783742,\n",
       "        4847.24793749,  9981.55623345, 10340.3331191 , 10899.80128302,\n",
       "       13555.86804578,  6698.40902467,  5871.28672472,  8910.15113164,\n",
       "        8951.57736197, 11595.67689251,  8098.78702449, 14031.93056158,\n",
       "        8044.1801746 , 27905.72109436, 31062.72880542, 27851.03762319,\n",
       "        6621.95404426, 11975.84834719,  5904.30386953, 13531.92785419,\n",
       "        3452.94392776, 29301.59514986,  6782.68917891,  5402.25777275,\n",
       "       13441.19676967,  6972.31000895, 33839.69446695,  3890.90255434,\n",
       "        5359.2616632 , 27660.64835438, 10612.29589685,  8160.94779051,\n",
       "       14039.69128265,  9846.10086034, 23648.52010112, 29327.21040353,\n",
       "       13898.15008401,  2809.00014046, 12948.08132829,  3283.06288644,\n",
       "        5485.84272042, 10800.11959441, 34590.94892073, 32283.16173156,\n",
       "       29931.60982753,  4289.66519624,  8170.9798722 ,  8422.36963663,\n",
       "       11148.04267611,  5561.81469328,  2863.61882579, 28684.75176092,\n",
       "       22061.49984041, 15857.51984811, 24220.43206344, 10630.46886237,\n",
       "       33152.92348264,  1517.96758364,  7819.19526888,  7540.98547631,\n",
       "        5389.29145942,  5312.29529353,  6229.85663888,  4850.61511575,\n",
       "       13485.31830948, 11107.66831077,  6492.92176295,  3270.22708985,\n",
       "        2821.7711512 , 27588.87678439, 15006.00429473, 11454.43095554,\n",
       "        2534.34221977, 12309.55977754,  2606.47044818,  8994.13207857,\n",
       "        3234.12635955, 30189.90680665,  9627.78980401,  3499.99503197,\n",
       "       22830.02152601, 23598.47014596,  9676.96830908,  3280.04053116,\n",
       "       12089.52070872,  2507.53708309, 10739.86758885, 10922.22437925,\n",
       "       14854.41917896, 23826.22664936,  7545.34723499,  5747.18200352,\n",
       "        6357.41327289, 13038.88547845, 11338.04333583,  8170.23154868,\n",
       "        5167.9858863 , 11288.0667794 , 12164.92349105, 31058.96151572,\n",
       "        4507.75777872, 25341.49884441,   682.26317345,  3470.81012925,\n",
       "       10840.80072377, 14254.72633662,  5091.58418939,  8075.92220223,\n",
       "        4694.36792238, 27633.3899893 ,  8352.90693854, 11565.41984303,\n",
       "        5942.42770745,  9022.49559212, 31421.64354256,  4613.25964381,\n",
       "       10486.17112404, 26943.35467152,  5818.16163042,  5105.1649204 ,\n",
       "        2234.84948615,  5203.70984295,  5126.91614785,  6507.56636093,\n",
       "       16553.67116058,   472.46116172,  2973.40599483, 10011.47795734,\n",
       "        3953.32324225, 10685.18411768,  4205.17790397,  5400.38418552,\n",
       "       11994.06276076,  6236.82541687,  8836.71850652,  7750.22385814,\n",
       "        9135.51586703, 11074.65116596, 24538.08642677, 34211.99085341,\n",
       "       11777.20368087,  7944.52182378, 35013.82155638, 11585.96935202,\n",
       "        8139.24934693,  8853.75131687,  9579.92864645, 10686.94174278,\n",
       "       10724.48616971, 15855.19303249,  2222.75034418, 21284.90422836,\n",
       "       11428.17578376, 28954.01939573,  6130.19828806, 12234.65167165,\n",
       "       10314.30825661, 16217.51840091, 10008.8474337 , 11004.48159241,\n",
       "       28081.16222373,  4134.57843982, 12670.65180991, 33986.69918366,\n",
       "        6003.30185394,  6002.46862933,  3888.2074114 , 11117.3322317 ,\n",
       "       23393.76315844, 13172.84742708,  9717.91347252, 10336.08298839,\n",
       "       12487.24298799,  2509.86389871,  3376.09728225, 26362.15878449,\n",
       "       26239.15904521, 11983.32347051,  4322.76707559, 22631.84192351,\n",
       "       13014.05066552, 26673.66575899,  4053.07816305, 34168.54134892,\n",
       "       10071.97210761,  4785.85594331,  7183.39847368,  3210.92298913,\n",
       "       23191.97028732, 13508.13323735,  1858.56305743, 12285.89134329,\n",
       "       12060.03209799, 13905.80256621, 30363.8310072 , 13609.89959687,\n",
       "       28294.83148424,  9692.1688137 , 16359.23873255,  6022.26136847,\n",
       "        9225.79372316,  9264.65438224, 14415.70361598,  9536.54392781,\n",
       "        7658.15337021, 13518.2622221 , 12614.77000938, 13755.72609946,\n",
       "        7267.52927408, 22940.18885779,  8960.44323152,  3047.56916629,\n",
       "        5181.63140316, 12777.35539346, 31133.78488707,  9609.10188028,\n",
       "       12704.3641613 ,  6573.1788732 ,  5811.69903124,  4597.85810943,\n",
       "        3476.22053036,  9255.29400279,  7445.99259218,  3206.57289934,\n",
       "       12417.06141246,  9117.14348674,  6332.26308305,  2107.62583968,\n",
       "        9663.36390719,  5188.91555804, 29037.07449372, 24517.14508613,\n",
       "       32191.59742243,  5692.82340662,  8906.56120081,  8432.81383174,\n",
       "        3820.26791695, 28371.68640954,  7699.73251002, 25784.55588429,\n",
       "       31438.76464309,  7417.24908241, 12427.7360834 ,  9324.40004246,\n",
       "        9035.71966472, 12160.59673906, 27435.59866281, 15080.13229297,\n",
       "       10767.17568178,  4918.61939604,   804.50597633, 11964.59426527,\n",
       "       27215.24421709, 12383.61471013, 10834.1886042 ,  7353.99516989,\n",
       "        4435.27289189,  7374.54806799,  7890.84676456, 10436.22401368,\n",
       "       30148.10041357, 34321.766187  , 11621.99685013,  8631.83849428,\n",
       "       14966.84009419, 14238.45029613,  9019.48507228,  8380.04539585,\n",
       "        9016.42143549,  3727.28647154,  9771.20442335,  5073.34949405,\n",
       "       10752.24676795, 14216.56121719,  6911.76290827,  3041.34548927,\n",
       "       13463.19030838,  1558.69016105])"
      ]
     },
     "execution_count": 185,
     "metadata": {},
     "output_type": "execute_result"
    }
   ],
   "source": [
    "y_pred"
   ]
  },
  {
   "cell_type": "code",
   "execution_count": 186,
   "id": "bc967bf7",
   "metadata": {},
   "outputs": [
    {
     "data": {
      "image/png": "[encoded data removed]",
      "text/plain": [
       "<Figure size 640x480 with 1 Axes>"
      ]
     },
     "metadata": {},
     "output_type": "display_data"
    }
   ],
   "source": [
    "plt.scatter(y_pred, y_test, color = 'red')\n",
    "plt.plot(y_pred, ml.predict(x_test), color = 'blue')\n",
    "\n",
    "plt.title('predict vs actual')\n",
    "plt.xlabel('predict')\n",
    "plt.show()"
   ]
  },
  {
   "cell_type": "markdown",
   "id": "86e58fd6",
   "metadata": {},
   "source": [
    "# creating def function for run every model easyly and easy to visiable accuracy"
   ]
  },
  {
   "cell_type": "code",
   "execution_count": 221,
   "id": "23368909",
   "metadata": {},
   "outputs": [],
   "source": [
    "model_list = []\n",
    "mean_absolute_error_list = []\n",
    "mean_squared_error_list = []\n",
    "root_mean_sqared_error_list = []\n",
    "R2_score = []\n",
    "from sklearn import metrics"
   ]
  },
  {
   "cell_type": "code",
   "execution_count": 247,
   "id": "5edc3110",
   "metadata": {},
   "outputs": [],
   "source": [
    "def Model_features(x_train , y_train , x_test , y_test , y_pred , model_name):\n",
    "\n",
    "    mean_absolute_error ,mean_squared_error , root_mean_sqared_error , R2= round(metrics.mean_absolute_error(y_test , y_pred),ndigits=2), round(metrics.mean_squared_error(y_test,y_pred),ndigits=2) , round(np.sqrt(metrics.mean_squared_error(y_test,y_pred)),ndigits=2), round(metrics.r2_score(y_test,y_pred),ndigits=2)\n",
    "    \n",
    "\n",
    "    print(f'mean_absolute_error :{mean_absolute_error}')\n",
    "    print(f'mean_squared_error :{mean_squared_error}')\n",
    "    print(f'root_mean_sqared_error :{root_mean_sqared_error}')\n",
    "    print(f'R2_score :{R2}')\n",
    "\n",
    "    model_list.append(model_name)\n",
    "    mean_absolute_error_list.append(mean_absolute_error)\n",
    "    mean_squared_error_list.append(mean_squared_error)\n",
    "    root_mean_sqared_error_list.append(root_mean_sqared_error)\n",
    "    R2_score.append(R2)"
   ]
  },
  {
   "cell_type": "markdown",
   "id": "4b02376c",
   "metadata": {},
   "source": [
    "## LinearRegression"
   ]
  },
  {
   "cell_type": "code",
   "execution_count": 223,
   "id": "69aa4e58",
   "metadata": {
    "scrolled": true
   },
   "outputs": [
    {
     "name": "stdout",
     "output_type": "stream",
     "text": [
      "mean_absolute_error :2247.23\n",
      "mean_squared_error :19002829.45\n",
      "root_mean_sqared_error :4359.22\n",
      "R2_score :0.82\n"
     ]
    }
   ],
   "source": [
    "Model_features(x_train , y_train , x_test , y_test , y_pred , \"LinearRegression\" )"
   ]
  },
  {
   "cell_type": "code",
   "execution_count": 224,
   "id": "9ed845ce",
   "metadata": {},
   "outputs": [
    {
     "data": {
      "text/plain": [
       "['LinearRegression']"
      ]
     },
     "execution_count": 224,
     "metadata": {},
     "output_type": "execute_result"
    }
   ],
   "source": [
    "model_list"
   ]
  },
  {
   "cell_type": "code",
   "execution_count": 225,
   "id": "a5801a2b",
   "metadata": {},
   "outputs": [
    {
     "data": {
      "text/plain": [
       "2247.233901741296"
      ]
     },
     "execution_count": 225,
     "metadata": {},
     "output_type": "execute_result"
    }
   ],
   "source": [
    "metrics.mean_absolute_error(y_test , y_pred)"
   ]
  },
  {
   "cell_type": "markdown",
   "id": "113e3604",
   "metadata": {},
   "source": [
    "## DecisionTreeRegressor"
   ]
  },
  {
   "cell_type": "code",
   "execution_count": 226,
   "id": "1f72180d",
   "metadata": {},
   "outputs": [],
   "source": [
    "from sklearn.tree import DecisionTreeRegressor"
   ]
  },
  {
   "cell_type": "code",
   "execution_count": 227,
   "id": "01acd683",
   "metadata": {},
   "outputs": [],
   "source": [
    "dt = DecisionTreeRegressor()\n",
    "dt.fit(x_train,y_train)\n",
    "y_pred = dt.predict(x_test)"
   ]
  },
  {
   "cell_type": "code",
   "execution_count": 228,
   "id": "9524fece",
   "metadata": {},
   "outputs": [
    {
     "name": "stdout",
     "output_type": "stream",
     "text": [
      "mean_absolute_error :2584.7\n",
      "mean_squared_error :35720829.74\n",
      "root_mean_sqared_error :5976.69\n",
      "R2_score :0.65\n"
     ]
    }
   ],
   "source": [
    "Model_features(x_train , y_train , x_test , y_test , y_pred , \"DecisionTreeRegressor\" )"
   ]
  },
  {
   "cell_type": "markdown",
   "id": "45b30f7f",
   "metadata": {},
   "source": [
    "## KNeighborsRegressor"
   ]
  },
  {
   "cell_type": "code",
   "execution_count": 230,
   "id": "c90873f3",
   "metadata": {},
   "outputs": [],
   "source": [
    "from sklearn.neighbors import KNeighborsRegressor"
   ]
  },
  {
   "cell_type": "code",
   "execution_count": 231,
   "id": "10193f72",
   "metadata": {},
   "outputs": [],
   "source": [
    "kn = KNeighborsRegressor()"
   ]
  },
  {
   "cell_type": "code",
   "execution_count": 232,
   "id": "17531988",
   "metadata": {},
   "outputs": [
    {
     "data": {
      "text/html": [
       "<style>#sk-container-id-6 {color: black;background-color: white;}#sk-container-id-6 pre{padding: 0;}#sk-container-id-6 div.sk-toggleable {background-color: white;}#sk-container-id-6 label.sk-toggleable__label {cursor: pointer;display: block;width: 100%;margin-bottom: 0;padding: 0.3em;box-sizing: border-box;text-align: center;}#sk-container-id-6 label.sk-toggleable__label-arrow:before {content: \"▸\";float: left;margin-right: 0.25em;color: #696969;}#sk-container-id-6 label.sk-toggleable__label-arrow:hover:before {color: black;}#sk-container-id-6 div.sk-estimator:hover label.sk-toggleable__label-arrow:before {color: black;}#sk-container-id-6 div.sk-toggleable__content {max-height: 0;max-width: 0;overflow: hidden;text-align: left;background-color: #f0f8ff;}#sk-container-id-6 div.sk-toggleable__content pre {margin: 0.2em;color: black;border-radius: 0.25em;background-color: #f0f8ff;}#sk-container-id-6 input.sk-toggleable__control:checked~div.sk-toggleable__content {max-height: 200px;max-width: 100%;overflow: auto;}#sk-container-id-6 input.sk-toggleable__control:checked~label.sk-toggleable__label-arrow:before {content: \"▾\";}#sk-container-id-6 div.sk-estimator input.sk-toggleable__control:checked~label.sk-toggleable__label {background-color: #d4ebff;}#sk-container-id-6 div.sk-label input.sk-toggleable__control:checked~label.sk-toggleable__label {background-color: #d4ebff;}#sk-container-id-6 input.sk-hidden--visually {border: 0;clip: rect(1px 1px 1px 1px);clip: rect(1px, 1px, 1px, 1px);height: 1px;margin: -1px;overflow: hidden;padding: 0;position: absolute;width: 1px;}#sk-container-id-6 div.sk-estimator {font-family: monospace;background-color: #f0f8ff;border: 1px dotted black;border-radius: 0.25em;box-sizing: border-box;margin-bottom: 0.5em;}#sk-container-id-6 div.sk-estimator:hover {background-color: #d4ebff;}#sk-container-id-6 div.sk-parallel-item::after {content: \"\";width: 100%;border-bottom: 1px solid gray;flex-grow: 1;}#sk-container-id-6 div.sk-label:hover label.sk-toggleable__label {background-color: #d4ebff;}#sk-container-id-6 div.sk-serial::before {content: \"\";position: absolute;border-left: 1px solid gray;box-sizing: border-box;top: 0;bottom: 0;left: 50%;z-index: 0;}#sk-container-id-6 div.sk-serial {display: flex;flex-direction: column;align-items: center;background-color: white;padding-right: 0.2em;padding-left: 0.2em;position: relative;}#sk-container-id-6 div.sk-item {position: relative;z-index: 1;}#sk-container-id-6 div.sk-parallel {display: flex;align-items: stretch;justify-content: center;background-color: white;position: relative;}#sk-container-id-6 div.sk-item::before, #sk-container-id-6 div.sk-parallel-item::before {content: \"\";position: absolute;border-left: 1px solid gray;box-sizing: border-box;top: 0;bottom: 0;left: 50%;z-index: -1;}#sk-container-id-6 div.sk-parallel-item {display: flex;flex-direction: column;z-index: 1;position: relative;background-color: white;}#sk-container-id-6 div.sk-parallel-item:first-child::after {align-self: flex-end;width: 50%;}#sk-container-id-6 div.sk-parallel-item:last-child::after {align-self: flex-start;width: 50%;}#sk-container-id-6 div.sk-parallel-item:only-child::after {width: 0;}#sk-container-id-6 div.sk-dashed-wrapped {border: 1px dashed gray;margin: 0 0.4em 0.5em 0.4em;box-sizing: border-box;padding-bottom: 0.4em;background-color: white;}#sk-container-id-6 div.sk-label label {font-family: monospace;font-weight: bold;display: inline-block;line-height: 1.2em;}#sk-container-id-6 div.sk-label-container {text-align: center;}#sk-container-id-6 div.sk-container {/* jupyter's `normalize.less` sets `[hidden] { display: none; }` but bootstrap.min.css set `[hidden] { display: none !important; }` so we also need the `!important` here to be able to override the default hidden behavior on the sphinx rendered scikit-learn.org. See: https://github.com/scikit-learn/scikit-learn/issues/21755 */display: inline-block !important;position: relative;}#sk-container-id-6 div.sk-text-repr-fallback {display: none;}</style><div id=\"sk-container-id-6\" class=\"sk-top-container\"><div class=\"sk-text-repr-fallback\"><pre>KNeighborsRegressor()</pre><b>In a Jupyter environment, please rerun this cell to show the HTML representation or trust the notebook. <br />On GitHub, the HTML representation is unable to render, please try loading this page with nbviewer.org.</b></div><div class=\"sk-container\" hidden><div class=\"sk-item\"><div class=\"sk-estimator sk-toggleable\"><input class=\"sk-toggleable__control sk-hidden--visually\" id=\"sk-estimator-id-6\" type=\"checkbox\" checked><label for=\"sk-estimator-id-6\" class=\"sk-toggleable__label sk-toggleable__label-arrow\">KNeighborsRegressor</label><div class=\"sk-toggleable__content\"><pre>KNeighborsRegressor()</pre></div></div></div></div></div>"
      ],
      "text/plain": [
       "KNeighborsRegressor()"
      ]
     },
     "execution_count": 232,
     "metadata": {},
     "output_type": "execute_result"
    }
   ],
   "source": [
    "kn.fit(x_train,y_train)"
   ]
  },
  {
   "cell_type": "code",
   "execution_count": 233,
   "id": "6c0edfaf",
   "metadata": {},
   "outputs": [],
   "source": [
    "y_pred = kn.predict(x_test)"
   ]
  },
  {
   "cell_type": "code",
   "execution_count": 234,
   "id": "f5667930",
   "metadata": {},
   "outputs": [
    {
     "name": "stdout",
     "output_type": "stream",
     "text": [
      "mean_absolute_error :2824.1\n",
      "mean_squared_error :22353965.43\n",
      "root_mean_sqared_error :4728.0\n",
      "R2_score :0.78\n"
     ]
    }
   ],
   "source": [
    "Model_features(x_train , y_train , x_test , y_test , y_pred ,  \"KNeighborsRegression\" )"
   ]
  },
  {
   "cell_type": "markdown",
   "id": "1f8d0d9e",
   "metadata": {},
   "source": [
    "## Support Vector Machine"
   ]
  },
  {
   "cell_type": "code",
   "execution_count": 240,
   "id": "8d828c5a",
   "metadata": {},
   "outputs": [],
   "source": [
    "from sklearn.svm import SVR"
   ]
  },
  {
   "cell_type": "code",
   "execution_count": 241,
   "id": "02c0da71",
   "metadata": {},
   "outputs": [],
   "source": [
    "svr = SVR()\n",
    "svr.fit(x_train,y_train)\n",
    "y_pred= svr.predict(x_test)"
   ]
  },
  {
   "cell_type": "code",
   "execution_count": 242,
   "id": "3ab691a7",
   "metadata": {},
   "outputs": [
    {
     "name": "stdout",
     "output_type": "stream",
     "text": [
      "mean_absolute_error :7438.27\n",
      "mean_squared_error :109738615.95\n",
      "root_mean_sqared_error :10475.62\n",
      "R2_score :-0.06\n"
     ]
    }
   ],
   "source": [
    "Model_features(x_train , y_train , x_test , y_test , y_pred , \"SVR\" )"
   ]
  },
  {
   "cell_type": "markdown",
   "id": "e0f87546",
   "metadata": {},
   "source": [
    "##  RandomForestRegressor"
   ]
  },
  {
   "cell_type": "code",
   "execution_count": 244,
   "id": "ecd71f5a",
   "metadata": {},
   "outputs": [],
   "source": [
    "from sklearn.ensemble import RandomForestRegressor"
   ]
  },
  {
   "cell_type": "code",
   "execution_count": 245,
   "id": "19e6481b",
   "metadata": {},
   "outputs": [],
   "source": [
    "rf = RandomForestRegressor()\n",
    "rf.fit(x_train,y_train)\n",
    "y_pred = rf.predict(x_test)"
   ]
  },
  {
   "cell_type": "code",
   "execution_count": 246,
   "id": "74fe9439",
   "metadata": {},
   "outputs": [
    {
     "name": "stdout",
     "output_type": "stream",
     "text": [
      "mean_absolute_error :2275.74\n",
      "mean_squared_error :19462469.66\n",
      "root_mean_sqared_error :4411.63\n",
      "R2_score :0.81\n"
     ]
    }
   ],
   "source": [
    "Model_features(x_train , y_train , x_test , y_test , y_pred , \"RandomForestRegresser\" )"
   ]
  },
  {
   "cell_type": "markdown",
   "id": "941782ec",
   "metadata": {},
   "source": [
    "## Containg Dict to view all scorce in Dataframe"
   ]
  },
  {
   "cell_type": "code",
   "execution_count": 248,
   "id": "ee1e9b9e",
   "metadata": {},
   "outputs": [
    {
     "data": {
      "text/html": [
       "<div>\n",
       "<style scoped>\n",
       "    .dataframe tbody tr th:only-of-type {\n",
       "        vertical-align: middle;\n",
       "    }\n",
       "\n",
       "    .dataframe tbody tr th {\n",
       "        vertical-align: top;\n",
       "    }\n",
       "\n",
       "    .dataframe thead th {\n",
       "        text-align: right;\n",
       "    }\n",
       "</style>\n",
       "<table border=\"1\" class=\"dataframe\">\n",
       "  <thead>\n",
       "    <tr style=\"text-align: right;\">\n",
       "      <th></th>\n",
       "      <th>Model_name</th>\n",
       "      <th>mean_absolute_error</th>\n",
       "      <th>mean_squared_error</th>\n",
       "      <th>root_mean_sqared_error</th>\n",
       "      <th>R2_score</th>\n",
       "    </tr>\n",
       "  </thead>\n",
       "  <tbody>\n",
       "    <tr>\n",
       "      <th>0</th>\n",
       "      <td>LinearRegression</td>\n",
       "      <td>2247.23</td>\n",
       "      <td>1.900283e+07</td>\n",
       "      <td>4359.22</td>\n",
       "      <td>0.82</td>\n",
       "    </tr>\n",
       "    <tr>\n",
       "      <th>5</th>\n",
       "      <td>RandomForestRegresser</td>\n",
       "      <td>2275.74</td>\n",
       "      <td>1.946247e+07</td>\n",
       "      <td>4411.63</td>\n",
       "      <td>0.81</td>\n",
       "    </tr>\n",
       "    <tr>\n",
       "      <th>2</th>\n",
       "      <td>KNeighborsRegression</td>\n",
       "      <td>2824.10</td>\n",
       "      <td>2.235397e+07</td>\n",
       "      <td>4728.00</td>\n",
       "      <td>0.78</td>\n",
       "    </tr>\n",
       "    <tr>\n",
       "      <th>1</th>\n",
       "      <td>DecisionTreeRegressor</td>\n",
       "      <td>2584.70</td>\n",
       "      <td>3.572083e+07</td>\n",
       "      <td>5976.69</td>\n",
       "      <td>0.65</td>\n",
       "    </tr>\n",
       "    <tr>\n",
       "      <th>3</th>\n",
       "      <td>SVR</td>\n",
       "      <td>7438.27</td>\n",
       "      <td>1.097386e+08</td>\n",
       "      <td>10475.62</td>\n",
       "      <td>-0.06</td>\n",
       "    </tr>\n",
       "    <tr>\n",
       "      <th>4</th>\n",
       "      <td>SVR</td>\n",
       "      <td>7438.27</td>\n",
       "      <td>1.097386e+08</td>\n",
       "      <td>10475.62</td>\n",
       "      <td>-0.06</td>\n",
       "    </tr>\n",
       "  </tbody>\n",
       "</table>\n",
       "</div>"
      ],
      "text/plain": [
       "              Model_name  mean_absolute_error  mean_squared_error  \\\n",
       "0       LinearRegression              2247.23        1.900283e+07   \n",
       "5  RandomForestRegresser              2275.74        1.946247e+07   \n",
       "2   KNeighborsRegression              2824.10        2.235397e+07   \n",
       "1  DecisionTreeRegressor              2584.70        3.572083e+07   \n",
       "3                    SVR              7438.27        1.097386e+08   \n",
       "4                    SVR              7438.27        1.097386e+08   \n",
       "\n",
       "   root_mean_sqared_error  R2_score  \n",
       "0                 4359.22      0.82  \n",
       "5                 4411.63      0.81  \n",
       "2                 4728.00      0.78  \n",
       "1                 5976.69      0.65  \n",
       "3                10475.62     -0.06  \n",
       "4                10475.62     -0.06  "
      ]
     },
     "execution_count": 248,
     "metadata": {},
     "output_type": "execute_result"
    }
   ],
   "source": [
    "dict = {'Model_name':model_list,'mean_absolute_error' :mean_absolute_error_list,'mean_squared_error' : mean_squared_error_list, 'root_mean_sqared_error' :root_mean_sqared_error_list, 'R2_score': R2_score}\n",
    "model_selection = pd.DataFrame(dict).sort_values(ascending = True , by = 'root_mean_sqared_error')\n",
    "model_selection"
   ]
  },
  {
   "cell_type": "markdown",
   "id": "c2189ff0",
   "metadata": {},
   "source": [
    "## linear regression gives a good accuracy"
   ]
  }
 ],
 "metadata": {
  "kernelspec": {
   "display_name": "Python 3 (ipykernel)",
   "language": "python",
   "name": "python3"
  },
  "language_info": {
   "codemirror_mode": {
    "name": "ipython",
    "version": 3
   },
   "file_extension": ".py",
   "mimetype": "text/x-python",
   "name": "python",
   "nbconvert_exporter": "python",
   "pygments_lexer": "ipython3",
   "version": "3.10.9"
  }
 },
 "nbformat": 4,
 "nbformat_minor": 5
}
